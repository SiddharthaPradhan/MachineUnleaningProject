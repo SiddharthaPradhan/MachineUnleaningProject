{
 "cells": [
  {
   "cell_type": "code",
   "execution_count": 10,
   "metadata": {},
   "outputs": [],
   "source": [
    "import torch\n",
    "from model import ResNet18\n",
    "from utils import *\n",
    "from torch.utils.data import DataLoader\n",
    "from unlearn_tech import *"
   ]
  },
  {
   "cell_type": "code",
   "execution_count": 2,
   "metadata": {},
   "outputs": [
    {
     "name": "stdout",
     "output_type": "stream",
     "text": [
      "Files already downloaded and verified\n",
      "Files already downloaded and verified\n"
     ]
    }
   ],
   "source": [
    "from torchvision.datasets import CIFAR10\n",
    "train_ds = CIFAR10(root='.', train=True,download=True, transform=transform_train)\n",
    "valid_ds = CIFAR10(root='.', train=False,download=True, transform=transform_train)\n",
    "\n",
    "batch_size = 64\n",
    "train_dl = DataLoader(train_ds, batch_size, shuffle=True, num_workers=32, pin_memory=True)\n",
    "valid_dl = DataLoader(valid_ds, batch_size, num_workers=32, pin_memory=True)"
   ]
  },
  {
   "cell_type": "code",
   "execution_count": 3,
   "metadata": {},
   "outputs": [],
   "source": [
    "num_classes = 10\n",
    "classwise_train = {}\n",
    "for i in range(num_classes):\n",
    "    classwise_train[i] = []\n",
    "\n",
    "for img, label in train_ds:\n",
    "    classwise_train[label].append((img, label))\n",
    "    \n",
    "classwise_test = {}\n",
    "for i in range(num_classes):\n",
    "    classwise_test[i] = []\n",
    "\n",
    "for img, label in valid_ds:\n",
    "    classwise_test[label].append((img, label))"
   ]
  },
  {
   "cell_type": "code",
   "execution_count": 5,
   "metadata": {},
   "outputs": [
    {
     "name": "stderr",
     "output_type": "stream",
     "text": [
      "/home/bashlab/nur/test/venv/lib/python3.8/site-packages/torchvision/models/_utils.py:208: UserWarning: The parameter 'pretrained' is deprecated since 0.13 and may be removed in the future, please use 'weights' instead.\n",
      "  warnings.warn(\n",
      "/home/bashlab/nur/test/venv/lib/python3.8/site-packages/torchvision/models/_utils.py:223: UserWarning: Arguments other than a weight enum or `None` for 'weights' are deprecated since 0.13 and may be removed in the future. The current behavior is equivalent to passing `weights=None`.\n",
      "  warnings.warn(msg)\n"
     ]
    },
    {
     "name": "stdout",
     "output_type": "stream",
     "text": [
      "Epoch [0], val_loss: 1.3376, val_acc: 51.6919\n",
      "Epoch [1], val_loss: 0.8989, val_acc: 69.2974\n",
      "Epoch [2], val_loss: 0.6876, val_acc: 75.7265\n",
      "Epoch [3], val_loss: 0.8167, val_acc: 74.6318\n",
      "Epoch [4], val_loss: 0.5017, val_acc: 82.7926\n",
      "Epoch [5], val_loss: 0.5493, val_acc: 81.9467\n",
      "Epoch [6], val_loss: 0.5190, val_acc: 83.3698\n",
      "Epoch [7], val_loss: 0.5150, val_acc: 84.0366\n",
      "Epoch [8], val_loss: 0.5736, val_acc: 84.2755\n",
      "Epoch 00009: reducing learning rate of group 0 to 5.0000e-04.\n",
      "Epoch 00009: reducing learning rate of group 1 to 5.0000e-03.\n",
      "Epoch [9], val_loss: 0.6567, val_acc: 85.7385\n",
      "Epoch [10], val_loss: 0.6932, val_acc: 85.5792\n",
      "Epoch [11], val_loss: 0.7244, val_acc: 84.9323\n",
      "Epoch [12], val_loss: 0.7277, val_acc: 85.0717\n",
      "Epoch 00013: reducing learning rate of group 0 to 2.5000e-04.\n",
      "Epoch 00013: reducing learning rate of group 1 to 2.5000e-03.\n",
      "Epoch [13], val_loss: 0.8164, val_acc: 86.4152\n",
      "Epoch [14], val_loss: 0.8176, val_acc: 86.1465\n",
      "Epoch [15], val_loss: 0.9206, val_acc: 86.0569\n",
      "Epoch [16], val_loss: 0.9163, val_acc: 86.3854\n",
      "Epoch 00017: reducing learning rate of group 0 to 1.2500e-04.\n",
      "Epoch 00017: reducing learning rate of group 1 to 1.2500e-03.\n",
      "Epoch [17], val_loss: 0.9095, val_acc: 86.9526\n",
      "Epoch [18], val_loss: 0.9786, val_acc: 86.4152\n",
      "Epoch [19], val_loss: 0.9635, val_acc: 86.5545\n"
     ]
    }
   ],
   "source": [
    "# train the model\n",
    "device = 'cuda'\n",
    "model = ResNet18(num_classes = 10, pretrained = False).to(device)\n",
    "epochs = 20\n",
    "history, tr_loss, val_loss = fit_one_cycle(epochs, model, train_dl, valid_dl, device = device)\n",
    "# torch.save(model.state_dict(), \"ResNET18_CIFAR10_Pretrained_ALL_CLASSES_5_Epochs.pt\")"
   ]
  },
  {
   "cell_type": "code",
   "execution_count": 8,
   "metadata": {},
   "outputs": [
    {
     "name": "stdout",
     "output_type": "stream",
     "text": [
      "20\n"
     ]
    }
   ],
   "source": [
    "print(val_loss)"
   ]
  },
  {
   "cell_type": "code",
   "execution_count": 10,
   "metadata": {},
   "outputs": [
    {
     "data": {
      "image/png": "[encoded data removed]",
      "text/plain": [
       "<Figure size 640x480 with 1 Axes>"
      ]
     },
     "metadata": {},
     "output_type": "display_data"
    }
   ],
   "source": [
    "import matplotlib.pyplot as plt\n",
    "x = range(len(tr_loss))\n",
    "plt.plot(x, tr_loss)\n",
    "plt.plot(x, val_loss)\n",
    "plt.savefig('loss_scratch.pdf')\n",
    "plt.show()"
   ]
  },
  {
   "cell_type": "code",
   "execution_count": 4,
   "metadata": {},
   "outputs": [
    {
     "name": "stderr",
     "output_type": "stream",
     "text": [
      "/home/bashlab/nur/test/venv/lib/python3.8/site-packages/torchvision/models/_utils.py:208: UserWarning: The parameter 'pretrained' is deprecated since 0.13 and may be removed in the future, please use 'weights' instead.\n",
      "  warnings.warn(\n",
      "/home/bashlab/nur/test/venv/lib/python3.8/site-packages/torchvision/models/_utils.py:223: UserWarning: Arguments other than a weight enum or `None` for 'weights' are deprecated since 0.13 and may be removed in the future. The current behavior is equivalent to passing `weights=ResNet18_Weights.IMAGENET1K_V1`. You can also use `weights=ResNet18_Weights.DEFAULT` to get the most up-to-date weights.\n",
      "  warnings.warn(msg)\n"
     ]
    },
    {
     "data": {
      "text/plain": [
       "<All keys matched successfully>"
      ]
     },
     "execution_count": 4,
     "metadata": {},
     "output_type": "execute_result"
    }
   ],
   "source": [
    "# load the trained model\n",
    "device = 'cuda'\n",
    "model = ResNet18(num_classes = 10, pretrained = True).to(device)\n",
    "model.load_state_dict(torch.load(\"ResNET18_CIFAR10_Pretrained_ALL_CLASSES_5_Epochs.pt\", map_location='cuda'))"
   ]
  },
  {
   "cell_type": "code",
   "execution_count": 11,
   "metadata": {},
   "outputs": [
    {
     "name": "stdout",
     "output_type": "stream",
     "text": [
      "Epoch 1 Unlearning Loss 0.03459922596812248\n",
      "Epoch 2 Unlearning Loss 0.009592833928763866\n",
      "Epoch 3 Unlearning Loss 0.007506383582949638\n",
      "Epoch 4 Unlearning Loss 0.006063377019017935\n",
      "Epoch 5 Unlearning Loss 0.007027400657534599\n",
      "{'Loss': 2.3520326614379883, 'Acc': 0.1953125}\n",
      "{'Loss': 0.31784528493881226, 'Acc': 91.32756805419922}\n",
      "Epoch 1 Unlearning Loss 0.043707385659217834\n",
      "Epoch 2 Unlearning Loss 0.012440772727131844\n",
      "Epoch 3 Unlearning Loss 0.009613914415240288\n",
      "Epoch 4 Unlearning Loss 0.007264189887791872\n",
      "Epoch 5 Unlearning Loss 0.006061818916350603\n",
      "{'Loss': 2.360525369644165, 'Acc': 0.06648936122655869}\n",
      "{'Loss': 0.32165858149528503, 'Acc': 90.30000305175781}\n"
     ]
    }
   ],
   "source": [
    "import random\n",
    "forget_valid = []\n",
    "all_forget_classes = [[6], [0, 6]]\n",
    "for i in range(len(all_forget_classes)):\n",
    "    forget_classes =  all_forget_classes[i]\n",
    "    # forget_classes.append(all_forget_classes[i])\n",
    "    # print(forget_classes)\n",
    "    for cls in range(num_classes):\n",
    "        if cls in forget_classes:\n",
    "            for img, clabel in classwise_test[cls]:\n",
    "                forget_valid.append((img, clabel))\n",
    "\n",
    "    retain_valid = []\n",
    "    for cls in range(num_classes):\n",
    "        if cls not in forget_classes:\n",
    "            for img, clabel in classwise_test[cls]:\n",
    "                retain_valid.append((img, clabel))\n",
    "                \n",
    "    forget_train = []\n",
    "    for cls in range(num_classes):\n",
    "        if cls in forget_classes:\n",
    "            for img, clabel in classwise_train[cls]:\n",
    "                forget_train.append((img, clabel))\n",
    "\n",
    "    retain_train = []\n",
    "    for cls in range(num_classes):\n",
    "        if cls not in forget_classes:\n",
    "            for img, clabel in classwise_train[cls]:\n",
    "                retain_train.append((img, clabel))\n",
    "\n",
    "    forget_valid_dl = DataLoader(forget_valid, batch_size, num_workers=32, pin_memory=True)\n",
    "\n",
    "    retain_valid_dl = DataLoader(retain_valid, batch_size, num_workers=32, pin_memory=True)\n",
    "\n",
    "    forget_train_dl = DataLoader(forget_train, batch_size, num_workers=32, pin_memory=True)\n",
    "    retain_train_dl = DataLoader(retain_train, batch_size, num_workers=32, pin_memory=True, shuffle = True)\n",
    "    \n",
    "    retain_train_subset = random.sample(retain_train, int(0.3*len(retain_train)))\n",
    "    retain_train_subset_dl = DataLoader(retain_train_subset, batch_size, num_workers=32, pin_memory=True, shuffle = True)\n",
    "    \n",
    "    device = 'cuda'\n",
    "    unlearning_teacher = ResNet18(num_classes = 10, pretrained = False).to(device)\n",
    "    # unlearning_teacher.load_state_dict(torch.load(\"ResNET18_CIFAR10_Pretrained_ALL_CLASSES_5_Epochs.pt\", map_location = device))\n",
    "    unlearning_teacher = unlearning_teacher.eval()\n",
    "    competent_teacher = ResNet18(num_classes = 10, pretrained = False).to(device)\n",
    "    competent_teacher.load_state_dict(torch.load(\"ResNET18_CIFAR10_Pretrained_ALL_CLASSES_5_Epochs.pt\", map_location = device))\n",
    "    student_model = ResNet18(num_classes = 10, pretrained = False).to(device)\n",
    "    student_model.load_state_dict(torch.load(\"ResNET18_CIFAR10_Pretrained_ALL_CLASSES_5_Epochs.pt\", map_location = device))\n",
    "    competent_teacher = competent_teacher.eval()\n",
    "\n",
    "    KL_temperature = 1\n",
    "\n",
    "    optimizer = torch.optim.Adam(student_model.parameters(), lr = 0.0001)\n",
    "\n",
    "    blindspot_unlearner(model = student_model, unlearning_teacher = unlearning_teacher, full_trained_teacher = competent_teacher, \n",
    "              retain_data = retain_train_subset, forget_data = forget_train, epochs = 5, optimizer = optimizer, lr = 0.0001, \n",
    "              batch_size = 64, num_workers = 32, device = device, KL_temperature = KL_temperature)\n",
    "\n",
    "    print(evaluate(student_model, forget_valid_dl, device))\n",
    "    print(evaluate(student_model, retain_valid_dl, device))\n",
    "\n",
    "    # print(f'accuracy of original model on retain data, {evaluate(model, retain_valid_dl, device)}')\n",
    "    # print(f'accuracy of original model on forget data, {evaluate(model, forget_valid_dl, device)}')\n",
    "\n",
    "    # retrain_model = ResNet18(num_classes = 10, pretrained = True).to(device)\n",
    "    # epochs = 5\n",
    "    # history = fit_one_cycle(epochs, retrain_model, retain_train_dl, retain_valid_dl, device = device)\n",
    "    # torch.save(retrain_model.state_dict(), \"ResNET18_CIFAR10_scratch_retrain_Class\" +str(forget_classes) +\"_5_Epochs.pt\")\n",
    "\n",
    "\n",
    "    # device = 'cuda'\n",
    "    # retrained_model = ResNet18(num_classes = 10, pretrained = False).to(device)\n",
    "    # retrained_model.load_state_dict(torch.load(\"ResNET18_CIFAR10_scratch_retrain_Class\" + str(forget_classes)+\"_5_Epochs.pt\", map_location=device))\n",
    "\n",
    "    # print(evaluate(retrained_model, forget_valid_dl, device))\n",
    "    # print(evaluate(retrained_model, retain_valid_dl, device))\n",
    "    "
   ]
  },
  {
   "cell_type": "code",
   "execution_count": 12,
   "metadata": {},
   "outputs": [
    {
     "name": "stdout",
     "output_type": "stream",
     "text": [
      "Epoch 1 Unlearning Loss 0.006655804812908173\n",
      "Epoch 2 Unlearning Loss 0.006459160707890987\n",
      "Epoch 3 Unlearning Loss 0.004891122691333294\n",
      "Epoch 4 Unlearning Loss 0.004723655991256237\n",
      "Epoch 5 Unlearning Loss 0.0041200886480510235\n",
      "{'Loss': 0.12770383059978485, 'Acc': 96.484375}\n",
      "{'Loss': 0.2950880229473114, 'Acc': 91.06604766845703}\n",
      "Epoch 1 Unlearning Loss 0.032581791281700134\n",
      "Epoch 2 Unlearning Loss 0.016087384894490242\n",
      "Epoch 3 Unlearning Loss 0.014426300302147865\n",
      "Epoch 4 Unlearning Loss 0.013482194393873215\n",
      "Epoch 5 Unlearning Loss 0.012070742435753345\n",
      "{'Loss': 2.8094980716705322, 'Acc': 42.96875}\n",
      "{'Loss': 0.2908088266849518, 'Acc': 91.01506805419922}\n",
      "Epoch 1 Unlearning Loss 0.0337018258869648\n",
      "Epoch 2 Unlearning Loss 0.018819009885191917\n",
      "Epoch 3 Unlearning Loss 0.016301320865750313\n",
      "Epoch 4 Unlearning Loss 0.014377416111528873\n",
      "Epoch 5 Unlearning Loss 0.01210259273648262\n",
      "{'Loss': 2.777552604675293, 'Acc': 44.0228157043457}\n",
      "{'Loss': 0.28229841589927673, 'Acc': 91.4375}\n",
      "Epoch 1 Unlearning Loss 0.026327084749937057\n",
      "Epoch 2 Unlearning Loss 0.01478704996407032\n",
      "Epoch 3 Unlearning Loss 0.012272724881768227\n",
      "Epoch 4 Unlearning Loss 0.010848602280020714\n",
      "Epoch 5 Unlearning Loss 0.009390191175043583\n",
      "{'Loss': 0.3490762412548065, 'Acc': 89.47443389892578}\n",
      "{'Loss': 0.28294214606285095, 'Acc': 91.05587005615234}\n"
     ]
    }
   ],
   "source": [
    "import random\n",
    "forget_valid = []\n",
    "all_forget_classes = [[0], [6], [0, 6], [0, 1, 2], [4, 5, 6]]\n",
    "for i in range(len(all_forget_classes)-1):\n",
    "    forget_classes =  all_forget_classes[i]\n",
    "    u_class = all_forget_classes[i+1]\n",
    "    # forget_classes.append(all_forget_classes[i])\n",
    "    # print(forget_classes)\n",
    "    for cls in range(num_classes):\n",
    "        if cls in forget_classes:\n",
    "            for img, clabel in classwise_test[cls]:\n",
    "                forget_valid.append((img, clabel))\n",
    "\n",
    "    retain_valid = []\n",
    "    for cls in range(num_classes):\n",
    "        if cls not in forget_classes:\n",
    "            for img, clabel in classwise_test[cls]:\n",
    "                retain_valid.append((img, clabel))\n",
    "                \n",
    "    forget_train = []\n",
    "    for cls in range(num_classes):\n",
    "        if cls in forget_classes:\n",
    "            for img, clabel in classwise_train[cls]:\n",
    "                forget_train.append((img, clabel))\n",
    "\n",
    "    retain_train = []\n",
    "    for cls in range(num_classes):\n",
    "        if cls not in forget_classes:\n",
    "            for img, clabel in classwise_train[cls]:\n",
    "                retain_train.append((img, clabel))\n",
    "\n",
    "    forget_valid_dl = DataLoader(forget_valid, batch_size, num_workers=32, pin_memory=True)\n",
    "\n",
    "    retain_valid_dl = DataLoader(retain_valid, batch_size, num_workers=32, pin_memory=True)\n",
    "\n",
    "    forget_train_dl = DataLoader(forget_train, batch_size, num_workers=32, pin_memory=True)\n",
    "    retain_train_dl = DataLoader(retain_train, batch_size, num_workers=32, pin_memory=True, shuffle = True)\n",
    "    \n",
    "    retain_train_subset = random.sample(retain_train, int(0.3*len(retain_train)))\n",
    "    retain_train_subset_dl = DataLoader(retain_train_subset, batch_size, num_workers=32, pin_memory=True, shuffle = True)\n",
    "    \n",
    "    device = 'cuda'\n",
    "    unlearning_teacher = ResNet18(num_classes = 10, pretrained = False).to(device)\n",
    "    unlearning_teacher.load_state_dict(torch.load(\"ResNET18_CIFAR10_scratch_retrain_Class\" + str(u_class)+\"_5_Epochs.pt\", map_location = device))\n",
    "    unlearning_teacher = unlearning_teacher.eval()\n",
    "    competent_teacher = ResNet18(num_classes = 10, pretrained = False).to(device)\n",
    "    competent_teacher.load_state_dict(torch.load(\"ResNET18_CIFAR10_Pretrained_ALL_CLASSES_5_Epochs.pt\", map_location = device))\n",
    "    student_model = ResNet18(num_classes = 10, pretrained = False).to(device)\n",
    "    student_model.load_state_dict(torch.load(\"ResNET18_CIFAR10_Pretrained_ALL_CLASSES_5_Epochs.pt\", map_location = device))\n",
    "    competent_teacher = competent_teacher.eval()\n",
    "\n",
    "    KL_temperature = 1\n",
    "\n",
    "    optimizer = torch.optim.Adam(student_model.parameters(), lr = 0.0001)\n",
    "\n",
    "    blindspot_unlearner(model = student_model, unlearning_teacher = unlearning_teacher, full_trained_teacher = competent_teacher, \n",
    "              retain_data = retain_train_subset, forget_data = forget_train, epochs = 5, optimizer = optimizer, lr = 0.0001, \n",
    "              batch_size = 64, num_workers = 32, device = device, KL_temperature = KL_temperature)\n",
    "\n",
    "    print(evaluate(student_model, forget_valid_dl, device))\n",
    "    print(evaluate(student_model, retain_valid_dl, device))"
   ]
  },
  {
   "cell_type": "code",
   "execution_count": 26,
   "metadata": {},
   "outputs": [
    {
     "name": "stdout",
     "output_type": "stream",
     "text": [
      "[0, 1, 2]\n"
     ]
    }
   ],
   "source": [
    "#for class 4, 5, 6\n",
    "#org_dr = 90.8\n",
    "#org_df = 90.7\n",
    "#scr_dr = 84.32\n",
    "#scr_df = 0"
   ]
  },
  {
   "cell_type": "code",
   "execution_count": 19,
   "metadata": {},
   "outputs": [
    {
     "name": "stdout",
     "output_type": "stream",
     "text": [
      "{'Loss': 0.30070456862449646, 'Acc': 90.68927001953125}\n",
      "{'Loss': 0.282065212726593, 'Acc': 91.4453125}\n"
     ]
    }
   ],
   "source": [
    "print(evaluate(model, retain_valid_dl, device))\n",
    "print(evaluate(model, forget_valid_dl, device))"
   ]
  },
  {
   "cell_type": "code",
   "execution_count": null,
   "metadata": {},
   "outputs": [
    {
     "name": "stderr",
     "output_type": "stream",
     "text": [
      "Exception ignored in: <function _releaseLock at 0x7ff1a616dee0>\n",
      "Traceback (most recent call last):\n",
      "  File \"/usr/lib/python3.8/logging/__init__.py\", line 227, in _releaseLock\n",
      "    def _releaseLock():\n",
      "KeyboardInterrupt: \n",
      "Exception ignored in: <function _MultiProcessingDataLoaderIter.__del__ at 0x7ff0642b5040>\n",
      "Traceback (most recent call last):\n",
      "  File \"/home/bashlab/nur/test/venv/lib/python3.8/site-packages/torch/utils/data/dataloader.py\", line 1478, in __del__\n",
      "    self._shutdown_workers()\n",
      "  File \"/home/bashlab/nur/test/venv/lib/python3.8/site-packages/torch/utils/data/dataloader.py\", line 1442, in _shutdown_workers\n",
      "    w.join(timeout=_utils.MP_STATUS_CHECK_INTERVAL)\n",
      "  File \"/usr/lib/python3.8/multiprocessing/process.py\", line 149, in join\n",
      "    res = self._popen.wait(timeout)\n",
      "  File \"/usr/lib/python3.8/multiprocessing/popen_fork.py\", line 44, in wait\n",
      "    if not wait([self.sentinel], timeout):\n",
      "  File \"/usr/lib/python3.8/multiprocessing/connection.py\", line 931, in wait\n",
      "    ready = selector.select(timeout)\n",
      "  File \"/usr/lib/python3.8/selectors.py\", line 415, in select\n",
      "    fd_event_list = self._selector.poll(timeout)\n",
      "KeyboardInterrupt: \n"
     ]
    },
    {
     "ename": "KeyboardInterrupt",
     "evalue": "",
     "output_type": "error",
     "traceback": [
      "\u001b[0;31m---------------------------------------------------------------------------\u001b[0m",
      "\u001b[0;31mKeyboardInterrupt\u001b[0m                         Traceback (most recent call last)",
      "\u001b[1;32m/home/bashlab/nur/test/DL_final_project/MachineUnleaningProject/student model/cifar-10_unlearn.ipynb Cell 11\u001b[0m line \u001b[0;36m4\n\u001b[1;32m      <a href='vscode-notebook-cell://ssh-remote%2B7b22686f73744e616d65223a22626173686c61622e64796e2e7770692e656475222c2275736572223a22626173686c6162227d/home/bashlab/nur/test/DL_final_project/MachineUnleaningProject/student%20model/cifar-10_unlearn.ipynb#X12sdnNjb2RlLXJlbW90ZQ%3D%3D?line=1'>2</a>\u001b[0m retrain_model \u001b[39m=\u001b[39m ResNet18(num_classes \u001b[39m=\u001b[39m \u001b[39m10\u001b[39m, pretrained \u001b[39m=\u001b[39m \u001b[39mFalse\u001b[39;00m)\u001b[39m.\u001b[39mto(device)\n\u001b[1;32m      <a href='vscode-notebook-cell://ssh-remote%2B7b22686f73744e616d65223a22626173686c61622e64796e2e7770692e656475222c2275736572223a22626173686c6162227d/home/bashlab/nur/test/DL_final_project/MachineUnleaningProject/student%20model/cifar-10_unlearn.ipynb#X12sdnNjb2RlLXJlbW90ZQ%3D%3D?line=2'>3</a>\u001b[0m epochs \u001b[39m=\u001b[39m \u001b[39m5\u001b[39m\n\u001b[0;32m----> <a href='vscode-notebook-cell://ssh-remote%2B7b22686f73744e616d65223a22626173686c61622e64796e2e7770692e656475222c2275736572223a22626173686c6162227d/home/bashlab/nur/test/DL_final_project/MachineUnleaningProject/student%20model/cifar-10_unlearn.ipynb#X12sdnNjb2RlLXJlbW90ZQ%3D%3D?line=3'>4</a>\u001b[0m history \u001b[39m=\u001b[39m fit_one_cycle(epochs, retrain_model, retain_train_dl, retain_valid_dl, device \u001b[39m=\u001b[39;49m device)\n\u001b[1;32m      <a href='vscode-notebook-cell://ssh-remote%2B7b22686f73744e616d65223a22626173686c61622e64796e2e7770692e656475222c2275736572223a22626173686c6162227d/home/bashlab/nur/test/DL_final_project/MachineUnleaningProject/student%20model/cifar-10_unlearn.ipynb#X12sdnNjb2RlLXJlbW90ZQ%3D%3D?line=4'>5</a>\u001b[0m torch\u001b[39m.\u001b[39msave(retrain_model\u001b[39m.\u001b[39mstate_dict(), \u001b[39m\"\u001b[39m\u001b[39mResNET18_CIFAR10_scratch_retrain_Class6_5_Epochs.pt\u001b[39m\u001b[39m\"\u001b[39m)\n",
      "File \u001b[0;32m~/nur/test/DL_final_project/MachineUnleaningProject/student model/utils.py:73\u001b[0m, in \u001b[0;36mfit_one_cycle\u001b[0;34m(epochs, model, train_loader, val_loader, device, pretrained_lr, finetune_lr)\u001b[0m\n\u001b[1;32m     71\u001b[0m lrs \u001b[39m=\u001b[39m []\n\u001b[1;32m     72\u001b[0m \u001b[39mfor\u001b[39;00m batch \u001b[39min\u001b[39;00m train_loader:\n\u001b[0;32m---> 73\u001b[0m     loss \u001b[39m=\u001b[39m training_step(model, batch, device)\n\u001b[1;32m     74\u001b[0m     train_losses\u001b[39m.\u001b[39mappend(loss)\n\u001b[1;32m     75\u001b[0m     loss\u001b[39m.\u001b[39mbackward()\n",
      "File \u001b[0;32m~/nur/test/DL_final_project/MachineUnleaningProject/student model/utils.py:16\u001b[0m, in \u001b[0;36mtraining_step\u001b[0;34m(model, batch, device)\u001b[0m\n\u001b[1;32m     14\u001b[0m \u001b[39mdef\u001b[39;00m \u001b[39mtraining_step\u001b[39m(model, batch, device):\n\u001b[1;32m     15\u001b[0m     images, clabels \u001b[39m=\u001b[39m batch \n\u001b[0;32m---> 16\u001b[0m     images, clabels \u001b[39m=\u001b[39m images\u001b[39m.\u001b[39;49mto(device), clabels\u001b[39m.\u001b[39mto(device)\n\u001b[1;32m     17\u001b[0m     out \u001b[39m=\u001b[39m model(images)                  \u001b[39m# Generate predictions\u001b[39;00m\n\u001b[1;32m     18\u001b[0m     loss \u001b[39m=\u001b[39m F\u001b[39m.\u001b[39mcross_entropy(out, clabels) \u001b[39m# Calculate loss\u001b[39;00m\n",
      "\u001b[0;31mKeyboardInterrupt\u001b[0m: "
     ]
    }
   ],
   "source": [
    "device = 'cuda'\n",
    "retrain_model = ResNet18(num_classes = 10, pretrained = False).to(device)\n",
    "epochs = 5\n",
    "history = fit_one_cycle(epochs, retrain_model, retain_train_dl, retain_valid_dl, device = device)\n",
    "torch.save(retrain_model.state_dict(), \"ResNET18_CIFAR10_scratch_retrain_Class6_5_Epochs.pt\")"
   ]
  },
  {
   "cell_type": "code",
   "execution_count": 21,
   "metadata": {},
   "outputs": [
    {
     "data": {
      "text/plain": [
       "<All keys matched successfully>"
      ]
     },
     "execution_count": 21,
     "metadata": {},
     "output_type": "execute_result"
    }
   ],
   "source": [
    "device = 'cuda'\n",
    "retrained_model = ResNet18(num_classes = 10, pretrained = False).to(device)\n",
    "retrained_model.load_state_dict(torch.load(\"ResNET18_CIFAR10_scratch_retrain_Class6_5_Epochs.pt\", map_location=device))"
   ]
  },
  {
   "cell_type": "code",
   "execution_count": 22,
   "metadata": {},
   "outputs": [
    {
     "name": "stdout",
     "output_type": "stream",
     "text": [
      "{'Loss': 10.911293029785156, 'Acc': 0.0}\n",
      "{'Loss': 0.5523592233657837, 'Acc': 80.63164520263672}\n"
     ]
    }
   ],
   "source": [
    "print(evaluate(retrained_model, forget_valid_dl, device))\n",
    "print(evaluate(retrained_model, retain_valid_dl, device))"
   ]
  },
  {
   "cell_type": "code",
   "execution_count": 8,
   "metadata": {},
   "outputs": [
    {
     "name": "stderr",
     "output_type": "stream",
     "text": [
      "/home/bashlab/nur/test/venv/lib/python3.8/site-packages/torchvision/models/_utils.py:208: UserWarning: The parameter 'pretrained' is deprecated since 0.13 and may be removed in the future, please use 'weights' instead.\n",
      "  warnings.warn(\n",
      "/home/bashlab/nur/test/venv/lib/python3.8/site-packages/torchvision/models/_utils.py:223: UserWarning: Arguments other than a weight enum or `None` for 'weights' are deprecated since 0.13 and may be removed in the future. The current behavior is equivalent to passing `weights=None`.\n",
      "  warnings.warn(msg)\n",
      "/home/bashlab/nur/test/venv/lib/python3.8/site-packages/torch/nn/functional.py:2943: UserWarning: reduction: 'mean' divides the total loss by both the batch size and the support size.'batchmean' divides only by the batch size, and aligns with the KL div math definition.'mean' will be changed to behave the same as 'batchmean' in the next major release.\n",
      "  warnings.warn(\n"
     ]
    },
    {
     "ename": "KeyboardInterrupt",
     "evalue": "",
     "output_type": "error",
     "traceback": [
      "\u001b[0;31m---------------------------------------------------------------------------\u001b[0m",
      "\u001b[0;31mKeyboardInterrupt\u001b[0m                         Traceback (most recent call last)",
      "Cell \u001b[0;32mIn [8], line 15\u001b[0m\n\u001b[1;32m     11\u001b[0m KL_temperature \u001b[38;5;241m=\u001b[39m \u001b[38;5;241m1\u001b[39m\n\u001b[1;32m     13\u001b[0m optimizer \u001b[38;5;241m=\u001b[39m torch\u001b[38;5;241m.\u001b[39moptim\u001b[38;5;241m.\u001b[39mAdam(student_model\u001b[38;5;241m.\u001b[39mparameters(), lr \u001b[38;5;241m=\u001b[39m \u001b[38;5;241m0.0001\u001b[39m)\n\u001b[0;32m---> 15\u001b[0m \u001b[43mblindspot_unlearner\u001b[49m\u001b[43m(\u001b[49m\u001b[43mmodel\u001b[49m\u001b[43m \u001b[49m\u001b[38;5;241;43m=\u001b[39;49m\u001b[43m \u001b[49m\u001b[43mstudent_model\u001b[49m\u001b[43m,\u001b[49m\u001b[43m \u001b[49m\u001b[43munlearning_teacher\u001b[49m\u001b[43m \u001b[49m\u001b[38;5;241;43m=\u001b[39;49m\u001b[43m \u001b[49m\u001b[43munlearning_teacher\u001b[49m\u001b[43m,\u001b[49m\u001b[43m \u001b[49m\u001b[43mfull_trained_teacher\u001b[49m\u001b[43m \u001b[49m\u001b[38;5;241;43m=\u001b[39;49m\u001b[43m \u001b[49m\u001b[43mcompetent_teacher\u001b[49m\u001b[43m,\u001b[49m\u001b[43m \u001b[49m\n\u001b[1;32m     16\u001b[0m \u001b[43m          \u001b[49m\u001b[43mretain_data\u001b[49m\u001b[43m \u001b[49m\u001b[38;5;241;43m=\u001b[39;49m\u001b[43m \u001b[49m\u001b[43mretain_train_subset\u001b[49m\u001b[43m,\u001b[49m\u001b[43m \u001b[49m\u001b[43mforget_data\u001b[49m\u001b[43m \u001b[49m\u001b[38;5;241;43m=\u001b[39;49m\u001b[43m \u001b[49m\u001b[43mforget_train\u001b[49m\u001b[43m,\u001b[49m\u001b[43m \u001b[49m\u001b[43mepochs\u001b[49m\u001b[43m \u001b[49m\u001b[38;5;241;43m=\u001b[39;49m\u001b[43m \u001b[49m\u001b[38;5;241;43m5\u001b[39;49m\u001b[43m,\u001b[49m\u001b[43m \u001b[49m\u001b[43moptimizer\u001b[49m\u001b[43m \u001b[49m\u001b[38;5;241;43m=\u001b[39;49m\u001b[43m \u001b[49m\u001b[43moptimizer\u001b[49m\u001b[43m,\u001b[49m\u001b[43m \u001b[49m\u001b[43mlr\u001b[49m\u001b[43m \u001b[49m\u001b[38;5;241;43m=\u001b[39;49m\u001b[43m \u001b[49m\u001b[38;5;241;43m0.0001\u001b[39;49m\u001b[43m,\u001b[49m\u001b[43m \u001b[49m\n\u001b[1;32m     17\u001b[0m \u001b[43m          \u001b[49m\u001b[43mbatch_size\u001b[49m\u001b[43m \u001b[49m\u001b[38;5;241;43m=\u001b[39;49m\u001b[43m \u001b[49m\u001b[38;5;241;43m64\u001b[39;49m\u001b[43m,\u001b[49m\u001b[43m \u001b[49m\u001b[43mnum_workers\u001b[49m\u001b[43m \u001b[49m\u001b[38;5;241;43m=\u001b[39;49m\u001b[43m \u001b[49m\u001b[38;5;241;43m32\u001b[39;49m\u001b[43m,\u001b[49m\u001b[43m \u001b[49m\u001b[43mdevice\u001b[49m\u001b[43m \u001b[49m\u001b[38;5;241;43m=\u001b[39;49m\u001b[43m \u001b[49m\u001b[43mdevice\u001b[49m\u001b[43m,\u001b[49m\u001b[43m \u001b[49m\u001b[43mKL_temperature\u001b[49m\u001b[43m \u001b[49m\u001b[38;5;241;43m=\u001b[39;49m\u001b[43m \u001b[49m\u001b[43mKL_temperature\u001b[49m\u001b[43m)\u001b[49m\n\u001b[1;32m     19\u001b[0m \u001b[38;5;28mprint\u001b[39m(evaluate(student_model, forget_valid_dl, device))\n\u001b[1;32m     20\u001b[0m \u001b[38;5;28mprint\u001b[39m(evaluate(student_model, retain_valid_dl, device))\n",
      "File \u001b[0;32m~/nur/test/DL_final_project/MachineUnleaningProject/student model/unlearn_tech.py:85\u001b[0m, in \u001b[0;36mblindspot_unlearner\u001b[0;34m(model, unlearning_teacher, full_trained_teacher, retain_data, forget_data, epochs, optimizer, lr, batch_size, num_workers, device, KL_temperature)\u001b[0m\n\u001b[1;32m     82\u001b[0m     optimizer \u001b[38;5;241m=\u001b[39m optimizer\u001b[38;5;66;03m#(model.parameters())\u001b[39;00m\n\u001b[1;32m     84\u001b[0m \u001b[38;5;28;01mfor\u001b[39;00m epoch \u001b[38;5;129;01min\u001b[39;00m \u001b[38;5;28mrange\u001b[39m(epochs):\n\u001b[0;32m---> 85\u001b[0m     loss \u001b[38;5;241m=\u001b[39m \u001b[43munlearning_step\u001b[49m\u001b[43m(\u001b[49m\u001b[43mmodel\u001b[49m\u001b[43m \u001b[49m\u001b[38;5;241;43m=\u001b[39;49m\u001b[43m \u001b[49m\u001b[43mmodel\u001b[49m\u001b[43m,\u001b[49m\u001b[43m \u001b[49m\u001b[43munlearning_teacher\u001b[49m\u001b[38;5;241;43m=\u001b[39;49m\u001b[43m \u001b[49m\u001b[43munlearning_teacher\u001b[49m\u001b[43m,\u001b[49m\u001b[43m \u001b[49m\n\u001b[1;32m     86\u001b[0m \u001b[43m                    \u001b[49m\u001b[43mfull_trained_teacher\u001b[49m\u001b[38;5;241;43m=\u001b[39;49m\u001b[43mfull_trained_teacher\u001b[49m\u001b[43m,\u001b[49m\u001b[43m \u001b[49m\u001b[43munlearn_data_loader\u001b[49m\u001b[38;5;241;43m=\u001b[39;49m\u001b[43munlearning_loader\u001b[49m\u001b[43m,\u001b[49m\u001b[43m \u001b[49m\n\u001b[1;32m     87\u001b[0m \u001b[43m                    \u001b[49m\u001b[43moptimizer\u001b[49m\u001b[38;5;241;43m=\u001b[39;49m\u001b[43moptimizer\u001b[49m\u001b[43m,\u001b[49m\u001b[43m \u001b[49m\u001b[43mdevice\u001b[49m\u001b[38;5;241;43m=\u001b[39;49m\u001b[43mdevice\u001b[49m\u001b[43m,\u001b[49m\u001b[43m \u001b[49m\u001b[43mKL_temperature\u001b[49m\u001b[38;5;241;43m=\u001b[39;49m\u001b[43mKL_temperature\u001b[49m\u001b[43m)\u001b[49m\n\u001b[1;32m     88\u001b[0m     \u001b[38;5;28mprint\u001b[39m(\u001b[38;5;124m\"\u001b[39m\u001b[38;5;124mEpoch \u001b[39m\u001b[38;5;132;01m{}\u001b[39;00m\u001b[38;5;124m Unlearning Loss \u001b[39m\u001b[38;5;132;01m{}\u001b[39;00m\u001b[38;5;124m\"\u001b[39m\u001b[38;5;241m.\u001b[39mformat(epoch\u001b[38;5;241m+\u001b[39m\u001b[38;5;241m1\u001b[39m, loss))\n",
      "File \u001b[0;32m~/nur/test/DL_final_project/MachineUnleaningProject/student model/unlearn_tech.py:36\u001b[0m, in \u001b[0;36munlearning_step\u001b[0;34m(model, unlearning_teacher, full_trained_teacher, unlearn_data_loader, optimizer, device, KL_temperature)\u001b[0m\n\u001b[1;32m     34\u001b[0m     loss\u001b[38;5;241m.\u001b[39mbackward()\n\u001b[1;32m     35\u001b[0m     optimizer\u001b[38;5;241m.\u001b[39mstep()\n\u001b[0;32m---> 36\u001b[0m     losses\u001b[38;5;241m.\u001b[39mappend(\u001b[43mloss\u001b[49m\u001b[38;5;241;43m.\u001b[39;49m\u001b[43mdetach\u001b[49m\u001b[43m(\u001b[49m\u001b[43m)\u001b[49m\u001b[38;5;241;43m.\u001b[39;49m\u001b[43mcpu\u001b[49m\u001b[43m(\u001b[49m\u001b[43m)\u001b[49m\u001b[38;5;241m.\u001b[39mnumpy())\n\u001b[1;32m     37\u001b[0m \u001b[38;5;28;01mreturn\u001b[39;00m np\u001b[38;5;241m.\u001b[39mmean(losses)\n",
      "\u001b[0;31mKeyboardInterrupt\u001b[0m: "
     ]
    }
   ],
   "source": []
  },
  {
   "cell_type": "code",
   "execution_count": 6,
   "metadata": {},
   "outputs": [
    {
     "name": "stdout",
     "output_type": "stream",
     "text": [
      "{'Loss': 2.574005365371704, 'Acc': 1.609992504119873}\n",
      "{'Loss': 0.3497753143310547, 'Acc': 90.27462005615234}\n"
     ]
    }
   ],
   "source": []
  },
  {
   "cell_type": "code",
   "execution_count": 12,
   "metadata": {},
   "outputs": [],
   "source": [
    "torch.save(student_model.state_dict(), \"ResNET18_CIFAR10_student_teacher_Class[0, 6]_5_Epochs.pt\")"
   ]
  },
  {
   "cell_type": "code",
   "execution_count": null,
   "metadata": {},
   "outputs": [],
   "source": []
  }
 ],
 "metadata": {
  "kernelspec": {
   "display_name": "Python 3 (ipykernel)",
   "language": "python",
   "name": "python3"
  },
  "language_info": {
   "codemirror_mode": {
    "name": "ipython",
    "version": 3
   },
   "file_extension": ".py",
   "mimetype": "text/x-python",
   "name": "python",
   "nbconvert_exporter": "python",
   "pygments_lexer": "ipython3",
   "version": "3.8.10"
  }
 },
 "nbformat": 4,
 "nbformat_minor": 2
}
