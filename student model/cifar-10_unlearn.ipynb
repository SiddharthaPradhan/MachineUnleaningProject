{
 "cells": [
  {
   "cell_type": "code",
   "execution_count": 2,
   "metadata": {},
   "outputs": [],
   "source": [
    "import torch\n",
    "from model import ResNet18\n",
    "from utils import *\n",
    "from torch.utils.data import DataLoader"
   ]
  },
  {
   "cell_type": "code",
   "execution_count": 3,
   "metadata": {},
   "outputs": [
    {
     "name": "stdout",
     "output_type": "stream",
     "text": [
      "Files already downloaded and verified\n",
      "Files already downloaded and verified\n"
     ]
    }
   ],
   "source": [
    "from torchvision.datasets import CIFAR10\n",
    "train_ds = CIFAR10(root='.', train=True,download=True, transform=transform_train)\n",
    "valid_ds = CIFAR10(root='.', train=False,download=True, transform=transform_train)\n",
    "\n",
    "batch_size = 64\n",
    "train_dl = DataLoader(train_ds, batch_size, shuffle=True, num_workers=32, pin_memory=True)\n",
    "valid_dl = DataLoader(valid_ds, batch_size, num_workers=32, pin_memory=True)"
   ]
  },
  {
   "cell_type": "code",
   "execution_count": 4,
   "metadata": {},
   "outputs": [],
   "source": [
    "num_classes = 10\n",
    "classwise_train = {}\n",
    "for i in range(num_classes):\n",
    "    classwise_train[i] = []\n",
    "\n",
    "for img, label in train_ds:\n",
    "    classwise_train[label].append((img, label))\n",
    "    \n",
    "classwise_test = {}\n",
    "for i in range(num_classes):\n",
    "    classwise_test[i] = []\n",
    "\n",
    "for img, label in valid_ds:\n",
    "    classwise_test[label].append((img, label))"
   ]
  },
  {
   "cell_type": "code",
   "execution_count": 5,
   "metadata": {},
   "outputs": [
    {
     "name": "stderr",
     "output_type": "stream",
     "text": [
      "/home/bashlab/nur/test/venv/lib/python3.8/site-packages/torchvision/models/_utils.py:208: UserWarning: The parameter 'pretrained' is deprecated since 0.13 and may be removed in the future, please use 'weights' instead.\n",
      "  warnings.warn(\n",
      "/home/bashlab/nur/test/venv/lib/python3.8/site-packages/torchvision/models/_utils.py:223: UserWarning: Arguments other than a weight enum or `None` for 'weights' are deprecated since 0.13 and may be removed in the future. The current behavior is equivalent to passing `weights=ResNet18_Weights.IMAGENET1K_V1`. You can also use `weights=ResNet18_Weights.DEFAULT` to get the most up-to-date weights.\n",
      "  warnings.warn(msg)\n"
     ]
    },
    {
     "name": "stdout",
     "output_type": "stream",
     "text": [
      "Epoch [0], last_lr: 0.00100, train_loss: 0.8286, val_loss: 1.0791, val_acc: 69.1481\n",
      "Epoch [1], last_lr: 0.00100, train_loss: 0.5047, val_loss: 0.4167, val_acc: 86.4948\n",
      "Epoch [2], last_lr: 0.00100, train_loss: 0.4152, val_loss: 0.3620, val_acc: 88.1568\n",
      "Epoch [3], last_lr: 0.00100, train_loss: 0.3131, val_loss: 0.3767, val_acc: 88.4256\n",
      "Epoch [4], last_lr: 0.00100, train_loss: 0.3418, val_loss: 0.2974, val_acc: 90.7842\n"
     ]
    }
   ],
   "source": [
    "# train the model\n",
    "device = 'cuda'\n",
    "model = ResNet18(num_classes = 10, pretrained = True).to(device)\n",
    "epochs = 5\n",
    "history = fit_one_cycle(epochs, model, train_dl, valid_dl, device = device)\n",
    "torch.save(model.state_dict(), \"ResNET18_CIFAR10_Pretrained_ALL_CLASSES_5_Epochs.pt\")"
   ]
  },
  {
   "cell_type": "code",
   "execution_count": 6,
   "metadata": {},
   "outputs": [
    {
     "data": {
      "text/plain": [
       "<All keys matched successfully>"
      ]
     },
     "execution_count": 6,
     "metadata": {},
     "output_type": "execute_result"
    }
   ],
   "source": [
    "# load the trained model\n",
    "device = 'cuda'\n",
    "model = ResNet18(num_classes = 10, pretrained = True).to(device)\n",
    "model.load_state_dict(torch.load(\"ResNET18_CIFAR10_Pretrained_ALL_CLASSES_5_Epochs.pt\", map_location='cuda'))"
   ]
  },
  {
   "cell_type": "code",
   "execution_count": 7,
   "metadata": {},
   "outputs": [],
   "source": [
    "forget_valid = []\n",
    "forget_classes = [0]\n",
    "for cls in range(num_classes):\n",
    "    if cls in forget_classes:\n",
    "        for img, clabel in classwise_test[cls]:\n",
    "            forget_valid.append((img, clabel))\n",
    "\n",
    "retain_valid = []\n",
    "for cls in range(num_classes):\n",
    "    if cls not in forget_classes:\n",
    "        for img, clabel in classwise_test[cls]:\n",
    "            retain_valid.append((img, clabel))\n",
    "            \n",
    "forget_train = []\n",
    "for cls in range(num_classes):\n",
    "    if cls in forget_classes:\n",
    "        for img, clabel in classwise_train[cls]:\n",
    "            forget_train.append((img, clabel))\n",
    "\n",
    "retain_train = []\n",
    "for cls in range(num_classes):\n",
    "    if cls not in forget_classes:\n",
    "        for img, clabel in classwise_train[cls]:\n",
    "            retain_train.append((img, clabel))\n",
    "\n",
    "forget_valid_dl = DataLoader(forget_valid, batch_size, num_workers=32, pin_memory=True)\n",
    "\n",
    "retain_valid_dl = DataLoader(retain_valid, batch_size, num_workers=32, pin_memory=True)\n",
    "\n",
    "forget_train_dl = DataLoader(forget_train, batch_size, num_workers=32, pin_memory=True)\n",
    "retain_train_dl = DataLoader(retain_train, batch_size, num_workers=32, pin_memory=True, shuffle = True)\n",
    "import random\n",
    "retain_train_subset = random.sample(retain_train, int(0.3*len(retain_train)))\n",
    "retain_train_subset_dl = DataLoader(retain_train_subset, batch_size, num_workers=32, pin_memory=True, shuffle = True)"
   ]
  },
  {
   "cell_type": "code",
   "execution_count": 8,
   "metadata": {},
   "outputs": [
    {
     "data": {
      "text/plain": [
       "{'Loss': 0.3983558118343353, 'Acc': 86.54296875}"
      ]
     },
     "execution_count": 8,
     "metadata": {},
     "output_type": "execute_result"
    }
   ],
   "source": [
    "evaluate(model, retain_valid_dl, device)\n",
    "evaluate(model, forget_valid_dl, device)"
   ]
  },
  {
   "cell_type": "code",
   "execution_count": 10,
   "metadata": {},
   "outputs": [
    {
     "name": "stderr",
     "output_type": "stream",
     "text": [
      "/home/bashlab/nur/test/venv/lib/python3.8/site-packages/torchvision/models/_utils.py:208: UserWarning: The parameter 'pretrained' is deprecated since 0.13 and may be removed in the future, please use 'weights' instead.\n",
      "  warnings.warn(\n",
      "/home/bashlab/nur/test/venv/lib/python3.8/site-packages/torchvision/models/_utils.py:223: UserWarning: Arguments other than a weight enum or `None` for 'weights' are deprecated since 0.13 and may be removed in the future. The current behavior is equivalent to passing `weights=ResNet18_Weights.IMAGENET1K_V1`. You can also use `weights=ResNet18_Weights.DEFAULT` to get the most up-to-date weights.\n",
      "  warnings.warn(msg)\n"
     ]
    },
    {
     "name": "stdout",
     "output_type": "stream",
     "text": [
      "Epoch [0], last_lr: 0.00100, train_loss: 0.7912, val_loss: 0.7193, val_acc: 77.5488\n",
      "Epoch [1], last_lr: 0.00100, train_loss: 0.4643, val_loss: 0.5097, val_acc: 83.8586\n",
      "Epoch [2], last_lr: 0.00100, train_loss: 0.3529, val_loss: 0.4857, val_acc: 84.0869\n",
      "Epoch [3], last_lr: 0.00100, train_loss: 0.4092, val_loss: 0.3867, val_acc: 88.4131\n",
      "Epoch [4], last_lr: 0.00100, train_loss: 0.3746, val_loss: 0.3028, val_acc: 90.7203\n"
     ]
    }
   ],
   "source": [
    "device = 'cuda'\n",
    "retrain_model = ResNet18(num_classes = 10, pretrained = True).to(device)\n",
    "epochs = 5\n",
    "history = fit_one_cycle(epochs, retrain_model, retain_train_dl, retain_valid_dl, device = device)\n",
    "torch.save(retrain_model.state_dict(), \"ResNET18_CIFAR10_Pretrained_retrain_Class0_5_Epochs.pt\")"
   ]
  },
  {
   "cell_type": "code",
   "execution_count": 12,
   "metadata": {},
   "outputs": [
    {
     "data": {
      "text/plain": [
       "<All keys matched successfully>"
      ]
     },
     "execution_count": 12,
     "metadata": {},
     "output_type": "execute_result"
    }
   ],
   "source": [
    "device = 'cuda'\n",
    "retrained_model = ResNet18(num_classes = 10, pretrained = True).to(device)\n",
    "retrained_model.load_state_dict(torch.load(\"ResNET18_CIFAR10_Pretrained_retrain_Class0_5_Epochs.pt\", map_location=device))"
   ]
  },
  {
   "cell_type": "code",
   "execution_count": 13,
   "metadata": {},
   "outputs": [
    {
     "data": {
      "text/plain": [
       "{'Loss': 0.3027856647968292, 'Acc': 90.72029876708984}"
      ]
     },
     "execution_count": 13,
     "metadata": {},
     "output_type": "execute_result"
    }
   ],
   "source": [
    "evaluate(retrained_model, forget_valid_dl, device)\n",
    "evaluate(retrained_model, retain_valid_dl, device)"
   ]
  },
  {
   "cell_type": "code",
   "execution_count": null,
   "metadata": {},
   "outputs": [],
   "source": [
    "device = 'cuda'\n",
    "unlearning_teacher = ResNet18(num_classes = 10, pretrained = False).to(device).eval()\n",
    "student_model = ResNet18(num_classes = 10, pretrained = False).to(device)\n",
    "student_model.load_state_dict(torch.load(\"ResNET18_CIFAR10_Pretrained_ALL_CLASSES_5_Epochs.pt\", map_location = device))\n",
    "model = model.eval()\n",
    "\n",
    "KL_temperature = 1\n",
    "\n",
    "optimizer = torch.optim.Adam(student_model.parameters(), lr = 0.0001)\n",
    "\n",
    "blindspot_unlearner(model = student_model, unlearning_teacher = unlearning_teacher, full_trained_teacher = model, \n",
    "          retain_data = retain_train_subset, forget_data = forget_train, epochs = 1, optimizer = optimizer, lr = 0.0001, \n",
    "          batch_size = 64, num_workers = 32, device = device, KL_temperature = KL_temperature)"
   ]
  },
  {
   "cell_type": "code",
   "execution_count": null,
   "metadata": {},
   "outputs": [],
   "source": [
    "evaluate(student_model, forget_valid_dl, device)\n",
    "evaluate(student_model, retain_valid_dl, device)"
   ]
  },
  {
   "cell_type": "code",
   "execution_count": null,
   "metadata": {},
   "outputs": [],
   "source": []
  },
  {
   "cell_type": "code",
   "execution_count": null,
   "metadata": {},
   "outputs": [],
   "source": []
  }
 ],
 "metadata": {
  "kernelspec": {
   "display_name": "venv",
   "language": "python",
   "name": "python3"
  },
  "language_info": {
   "codemirror_mode": {
    "name": "ipython",
    "version": 3
   },
   "file_extension": ".py",
   "mimetype": "text/x-python",
   "name": "python",
   "nbconvert_exporter": "python",
   "pygments_lexer": "ipython3",
   "version": "3.8.10"
  },
  "orig_nbformat": 4
 },
 "nbformat": 4,
 "nbformat_minor": 2
}
