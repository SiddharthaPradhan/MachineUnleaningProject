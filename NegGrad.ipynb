{
  "cells": [
    {
      "cell_type": "code",
      "execution_count": 1,
      "metadata": {
        "colab": {
          "base_uri": "https://localhost:8080/"
        },
        "id": "V6YXq1oMM3bj",
        "outputId": "02975b25-e6ab-4822-bbfc-f3e37b1eaf4c",
        "cellView": "form"
      },
      "outputs": [
        {
          "output_type": "stream",
          "name": "stdout",
          "text": [
            "Running on device: CUDA\n"
          ]
        }
      ],
      "source": [
        "#@title Imports\n",
        "import os\n",
        "import requests\n",
        "import numpy as np\n",
        "import matplotlib.pyplot as plt\n",
        "from sklearn import linear_model, model_selection\n",
        "import random\n",
        "\n",
        "import torch\n",
        "from torch import nn\n",
        "from torch import optim\n",
        "from torch.utils.data import DataLoader\n",
        "import torch.nn.functional as F\n",
        "\n",
        "import torchvision\n",
        "from torchvision import transforms\n",
        "from torchvision.utils import make_grid\n",
        "from torchvision.models import resnet18\n",
        "import ssl\n",
        "\n",
        "ssl._create_default_https_context = ssl._create_unverified_context\n",
        "\n",
        "\n",
        "DEVICE = \"cuda\" if torch.cuda.is_available() else \"cpu\"\n",
        "print(\"Running on device:\", DEVICE.upper())\n",
        "\n",
        "# manual random seed is used for dataset partitioning\n",
        "# to ensure reproducible results across runs\n",
        "RNG = torch.Generator().manual_seed(42)"
      ]
    },
    {
      "cell_type": "code",
      "execution_count": 2,
      "metadata": {
        "colab": {
          "base_uri": "https://localhost:8080/"
        },
        "id": "g5G7DBCoM3bl",
        "outputId": "11f5bf4a-41b2-4075-8193-37d250d48a46",
        "cellView": "form"
      },
      "outputs": [
        {
          "output_type": "stream",
          "name": "stdout",
          "text": [
            "Downloading https://www.cs.toronto.edu/~kriz/cifar-10-python.tar.gz to ./data/cifar-10-python.tar.gz\n"
          ]
        },
        {
          "output_type": "stream",
          "name": "stderr",
          "text": [
            "100%|██████████| 170498071/170498071 [00:02<00:00, 76801121.60it/s]\n"
          ]
        },
        {
          "output_type": "stream",
          "name": "stdout",
          "text": [
            "Extracting ./data/cifar-10-python.tar.gz to ./data\n",
            "Files already downloaded and verified\n"
          ]
        }
      ],
      "source": [
        "#@title Preprocess CIFAR\n",
        "# download and pre-process CIFAR10\n",
        "normalize = transforms.Compose(\n",
        "    [\n",
        "        transforms.Resize(224),\n",
        "        transforms.ToTensor(),\n",
        "        transforms.Normalize((0.4914, 0.4822, 0.4465), (0.2023, 0.1994, 0.2010)),\n",
        "    ]\n",
        ")\n",
        "\n",
        "train_set = torchvision.datasets.CIFAR10(\n",
        "    root=\"./data\", train=True, download=True, transform=normalize\n",
        ")\n",
        "train_loader = DataLoader(train_set, batch_size=128, shuffle=True, num_workers=2)\n",
        "\n",
        "# we split held out data into test and validation set\n",
        "held_out = torchvision.datasets.CIFAR10(\n",
        "    root=\"./data\", train=False, download=True, transform=normalize\n",
        ")\n",
        "test_set, val_set = torch.utils.data.random_split(held_out, [0.5, 0.5], generator=RNG)\n",
        "test_loader = DataLoader(test_set, batch_size=128, shuffle=False, num_workers=2)\n",
        "val_loader = DataLoader(val_set, batch_size=128, shuffle=False, num_workers=2)\n",
        "\n",
        "# download the forget and retain index split\n",
        "local_path = \"forget_idx.npy\"\n",
        "if not os.path.exists(local_path):\n",
        "    response = requests.get(\n",
        "        \"https://storage.googleapis.com/unlearning-challenge/\" + local_path\n",
        "    )\n",
        "    open(local_path, \"wb\").write(response.content)\n"
      ]
    },
    {
      "cell_type": "markdown",
      "metadata": {
        "id": "cZWK7sDSatvj"
      },
      "source": [
        "## Define accuracy and resnet"
      ]
    },
    {
      "cell_type": "code",
      "execution_count": 3,
      "metadata": {
        "id": "X2hegPagM3bl",
        "cellView": "form"
      },
      "outputs": [],
      "source": [
        "#@title define eval functions\n",
        "def accuracy(nn, dataLoader):\n",
        "    nn.eval()\n",
        "    num_correct = 0\n",
        "    total = 0\n",
        "    for inputs, targets in dataLoader:\n",
        "        inputs, targets = inputs.to(DEVICE), targets.to(DEVICE)\n",
        "        outputs = nn(inputs) # get logits\n",
        "        _, predicted = outputs.max(1) # select max index\n",
        "        total += targets.size(0)\n",
        "        num_correct += predicted.eq(targets).sum().item() # sum correct instances\n",
        "    return num_correct / total\n",
        "\n",
        "def accuracy_from_output(logits, truthLabels):\n",
        "    out = torch.argmax(logits.detach(), dim=1)\n",
        "    return (truthLabels==out).sum().item()\n",
        "\n",
        "def evaluate(nn, dataLoader):\n",
        "    nn.eval()\n",
        "    total_correct = 0.0\n",
        "    total_loss = 0.0\n",
        "    total = 0\n",
        "    with torch.no_grad():\n",
        "        for inputs, targets in dataLoader:\n",
        "              inputs, targets = inputs.to(DEVICE), targets.to(DEVICE)\n",
        "              outputs = nn(inputs) # get logits\n",
        "              loss = F.cross_entropy(outputs, targets)\n",
        "              total += targets.size(0)\n",
        "              total_correct += accuracy_from_output(outputs, targets)\n",
        "              total_loss += loss.detach()\n",
        "    return total_correct/total, total_loss/total"
      ]
    },
    {
      "cell_type": "code",
      "source": [
        "#@title define resnet from scratch\n",
        "class ResNet18_scratch(nn.Module):\n",
        "    def __init__(self, num_classes):\n",
        "        super().__init__()\n",
        "        base = resnet18(weights=None, num_classes=num_classes)\n",
        "        self.base = nn.Sequential(*list(base.children())[:-1])\n",
        "        in_features = base.fc.in_features\n",
        "        self.drop = nn.Dropout()\n",
        "        self.final = nn.Linear(in_features,num_classes)\n",
        "\n",
        "    def forward(self,x):\n",
        "        x = self.base(x)\n",
        "        x = self.drop(x.view(-1,self.final.in_features))\n",
        "        return self.final(x)"
      ],
      "metadata": {
        "id": "CrDr0eu4D3tU",
        "cellView": "form"
      },
      "execution_count": 4,
      "outputs": []
    },
    {
      "cell_type": "code",
      "source": [
        "#@title Load Weights\n",
        "pretrained_state_dict = torch.load(\"ResNET18_CIFAR10_Pretrained_ALL_CLASSES_5_Epochs.pt\", map_location=DEVICE)\n",
        "retrained_state_dict = torch.load(\"ResNET18_CIFAR10_Pretrained_retrain_Class0_5_Epochs.pt\", map_location=DEVICE)\n",
        "\n",
        "\n",
        "# load model with pre-trained weights\n",
        "model = ResNet18_scratch(num_classes=10)\n",
        "model.load_state_dict(pretrained_state_dict)\n",
        "model.to(DEVICE)\n",
        "model.eval()\n",
        "\n",
        "unlearned_model = ResNet18_scratch(num_classes=10)\n",
        "unlearned_model.load_state_dict(retrained_state_dict)\n",
        "unlearned_model.to(DEVICE)\n",
        "unlearned_model.eval()\n",
        "\n",
        "print(f\"Train accuracy: {100.0 * accuracy(unlearned_model, train_loader)}%\")\n",
        "print(f\"Test accuracy: {100.0 * accuracy(unlearned_model, test_loader)}%\")"
      ],
      "metadata": {
        "colab": {
          "base_uri": "https://localhost:8080/"
        },
        "id": "8VyaLG3tVLvB",
        "outputId": "d6887d34-c5a5-4bed-a999-67dd61590c46",
        "cellView": "form"
      },
      "execution_count": 6,
      "outputs": [
        {
          "output_type": "stream",
          "name": "stdout",
          "text": [
            "Train accuracy: 87.09400000000001%\n",
            "Test accuracy: 81.44%\n"
          ]
        }
      ]
    },
    {
      "cell_type": "markdown",
      "source": [
        "## Separate Stuff"
      ],
      "metadata": {
        "id": "KYrmJ-czXdUv"
      }
    },
    {
      "cell_type": "code",
      "source": [
        "#@title nur's split\n",
        "classes = [0, 1, 2, 3, 4, 5, 6, 7, 8, 9]\n",
        "BATCH_SIZE = 256\n",
        "forget_classes = [0]\n",
        "num_classes = len(classes)\n",
        "\n",
        "train_set_classes = {} # define dict: class -> class imgs\n",
        "for i in classes:\n",
        "    train_set_classes[i] = []\n",
        "for img, label in train_set:\n",
        "    train_set_classes[label].append((img, label))\n",
        "\n",
        "test_set_classes = {}\n",
        "for i in classes:\n",
        "    test_set_classes[i] = []\n",
        "for img, label in held_out:\n",
        "    test_set_classes[label].append((img, label))\n",
        "\n",
        "# number of retain samples from each class, needed for repair and impair step\n",
        "# subset of D_retain\n",
        "numRetainSamples = 1000\n",
        "retainedSamples = []\n",
        "for i in classes:\n",
        "    if classes[i] not in forget_classes:\n",
        "        # get first numRetainSamples from each class not in the forget set\n",
        "        retainedSamples.extend(train_set_classes[i][:numRetainSamples])\n",
        "\n",
        "# retain test set\n",
        "retainTestSet = []\n",
        "for classR in classes:\n",
        "    if classR not in forget_classes:\n",
        "        for img, label in test_set_classes[classR]:\n",
        "            retainTestSet.append((img, label))\n",
        "\n",
        "# forget test set\n",
        "forgetTestSet = []\n",
        "for classF in classes:\n",
        "    if classF in forget_classes:\n",
        "        for img, label in test_set_classes[classF]:\n",
        "            forgetTestSet.append((img, label))\n",
        "\n",
        "forgetSetTestLoader = DataLoader(forgetTestSet, BATCH_SIZE, num_workers=2)\n",
        "retainSetTestLoader = DataLoader(retainTestSet, BATCH_SIZE, num_workers=2)"
      ],
      "metadata": {
        "id": "8HuDJCi_XkGz",
        "cellView": "form"
      },
      "execution_count": null,
      "outputs": []
    },
    {
      "cell_type": "code",
      "source": [
        "#@title Split By Class and helper methods\n",
        "forget_classes = [0]\n",
        "retain_classes = [1,2,3,4,5,6,7,8,9]\n",
        "\n",
        "def makeDataLoaders(train_set, forget_classes,retain_classes):\n",
        "  class_to_idx = {i: torch.where(torch.tensor(train_set.targets) == i)[0] for i in range(10)}\n",
        "\n",
        "  class_forget_idx = np.concatenate([class_to_idx[i] for i in forget_classes])\n",
        "  class_retain_idx = np.concatenate([class_to_idx[i] for i in retain_classes])\n",
        "\n",
        "  class_forget_set = torch.utils.data.Subset(train_set, class_forget_idx)\n",
        "  class_retain_set = torch.utils.data.Subset(train_set, class_retain_idx)\n",
        "\n",
        "  class_forget_loader = torch.utils.data.DataLoader(\n",
        "      class_forget_set, batch_size=128, shuffle=True, num_workers=2\n",
        "  )\n",
        "\n",
        "  class_retain_loader = torch.utils.data.DataLoader(\n",
        "      class_retain_set, batch_size=128, shuffle=True, num_workers=2, generator=RNG\n",
        "  )\n",
        "\n",
        "  return class_forget_loader, class_retain_loader\n",
        "\n",
        "class_forget_loader, class_retain_loader = makeDataLoaders(train_set, forget_classes,retain_classes)\n"
      ],
      "metadata": {
        "cellView": "form",
        "id": "d850_eP3d4qj"
      },
      "execution_count": 7,
      "outputs": []
    },
    {
      "cell_type": "code",
      "source": [
        "#@title Nur's unlearned forget performance\n",
        "\n",
        "print(\"Unlearned model performance metrics on Forget Class:\")\n",
        "acc, loss = evaluate(unlearned_model, forgetSetTestLoader)\n",
        "print(f\"Accuracy: {acc}\")\n",
        "print(f\"Loss: {loss}\")\n",
        "\n",
        "\n",
        "print(\"Unlearned model performance metrics on Retain Class:\")\n",
        "acc2, loss2 = evaluate(unlearned_model, retainSetTestLoader)\n",
        "print(f\"Accuracy: {acc2}\")\n",
        "print(f\"Loss: {loss2}\")"
      ],
      "metadata": {
        "id": "t2d_GWZuXtrX",
        "colab": {
          "base_uri": "https://localhost:8080/",
          "height": 262
        },
        "cellView": "form",
        "outputId": "ece54203-0951-453c-e587-8883c3916c4e"
      },
      "execution_count": null,
      "outputs": [
        {
          "output_type": "stream",
          "name": "stdout",
          "text": [
            "Unlearned model performance metrics on Forget Class:\n"
          ]
        },
        {
          "output_type": "error",
          "ename": "NameError",
          "evalue": "ignored",
          "traceback": [
            "\u001b[0;31m---------------------------------------------------------------------------\u001b[0m",
            "\u001b[0;31mNameError\u001b[0m                                 Traceback (most recent call last)",
            "\u001b[0;32m<ipython-input-7-8062a3f2b76c>\u001b[0m in \u001b[0;36m<cell line: 2>\u001b[0;34m()\u001b[0m\n\u001b[1;32m      1\u001b[0m \u001b[0mprint\u001b[0m\u001b[0;34m(\u001b[0m\u001b[0;34m\"Unlearned model performance metrics on Forget Class:\"\u001b[0m\u001b[0;34m)\u001b[0m\u001b[0;34m\u001b[0m\u001b[0;34m\u001b[0m\u001b[0m\n\u001b[0;32m----> 2\u001b[0;31m \u001b[0macc\u001b[0m\u001b[0;34m,\u001b[0m \u001b[0mloss\u001b[0m \u001b[0;34m=\u001b[0m \u001b[0mevaluate\u001b[0m\u001b[0;34m(\u001b[0m\u001b[0munlearned_model\u001b[0m\u001b[0;34m,\u001b[0m \u001b[0mforgetSetTestLoader\u001b[0m\u001b[0;34m)\u001b[0m\u001b[0;34m\u001b[0m\u001b[0;34m\u001b[0m\u001b[0m\n\u001b[0m\u001b[1;32m      3\u001b[0m \u001b[0mprint\u001b[0m\u001b[0;34m(\u001b[0m\u001b[0;34mf\"Accuracy: {acc}\"\u001b[0m\u001b[0;34m)\u001b[0m\u001b[0;34m\u001b[0m\u001b[0;34m\u001b[0m\u001b[0m\n\u001b[1;32m      4\u001b[0m \u001b[0mprint\u001b[0m\u001b[0;34m(\u001b[0m\u001b[0;34mf\"Loss: {loss}\"\u001b[0m\u001b[0;34m)\u001b[0m\u001b[0;34m\u001b[0m\u001b[0;34m\u001b[0m\u001b[0m\n\u001b[1;32m      5\u001b[0m \u001b[0;34m\u001b[0m\u001b[0m\n",
            "\u001b[0;31mNameError\u001b[0m: name 'forgetSetTestLoader' is not defined"
          ]
        }
      ]
    },
    {
      "cell_type": "markdown",
      "source": [
        "## Unlearning Models"
      ],
      "metadata": {
        "id": "Wi6dynnGZBwX"
      }
    },
    {
      "cell_type": "code",
      "source": [
        "#@title Paper's Basic algo\n",
        "def unlearning(net, retain, forget, validation):\n",
        "    \"\"\"Unlearning by fine-tuning.\n",
        "\n",
        "    Fine-tuning is a very simple algorithm that trains using only\n",
        "    the retain set.\n",
        "\n",
        "    Args:\n",
        "      net : nn.Module.\n",
        "        pre-trained model to use as base of unlearning.\n",
        "      retain : torch.utils.data.DataLoader.\n",
        "        Dataset loader for access to the retain set. This is the subset\n",
        "        of the training set that we don't want to forget.\n",
        "      forget : torch.utils.data.DataLoader.\n",
        "        Dataset loader for access to the forget set. This is the subset\n",
        "        of the training set that we want to forget. This method doesn't\n",
        "        make use of the forget set.\n",
        "      validation : torch.utils.data.DataLoader.\n",
        "        Dataset loader for access to the validation set. This method doesn't\n",
        "        make use of the validation set.\n",
        "    Returns:\n",
        "      net : updated model\n",
        "    \"\"\"\n",
        "    epochs = 5\n",
        "\n",
        "    criterion = nn.CrossEntropyLoss()\n",
        "    optimizer = optim.SGD(net.parameters(), lr=0.1, momentum=0.9, weight_decay=5e-4)\n",
        "    scheduler = torch.optim.lr_scheduler.CosineAnnealingLR(optimizer, T_max=epochs)\n",
        "    net.train()\n",
        "\n",
        "    for i in range(epochs):\n",
        "        rprog = 0\n",
        "        print(f'\\nEpoch {i+1}/{epochs}. Retain Progress: {rprog}/{len(retain)}',end='')\n",
        "\n",
        "        for inputs, targets in retain:\n",
        "            inputs, targets = inputs.to(DEVICE), targets.to(DEVICE)\n",
        "            optimizer.zero_grad()\n",
        "            outputs = net(inputs)\n",
        "            loss = criterion(outputs, targets)\n",
        "            loss.backward()\n",
        "            optimizer.step()\n",
        "\n",
        "            rprog += 1\n",
        "\n",
        "            print(f'\\rEpoch {i+1}/{epochs}. Retain Progress: {rprog}/{len(retain)}',end='')\n",
        "\n",
        "        scheduler.step()\n",
        "\n",
        "    print('')\n",
        "    net.eval()\n",
        "    return net\n"
      ],
      "metadata": {
        "cellView": "form",
        "id": "znUizKDWZDrE"
      },
      "execution_count": 8,
      "outputs": []
    },
    {
      "cell_type": "code",
      "source": [
        "#@title Define NegGrad Functions\n",
        "\n",
        "#NegGrad\n",
        "def relearningneggrad(net, retain, forget, validation, ):\n",
        "\n",
        "    epochs = 20\n",
        "\n",
        "\n",
        "    forget_multiplier = .1\n",
        "\n",
        "    criterion = nn.CrossEntropyLoss()\n",
        "    optimizer = optim.Adam(net.parameters(), lr=0.001, weight_decay=5e-4)\n",
        "    scheduler = torch.optim.lr_scheduler.CosineAnnealingLR(optimizer, T_max=epochs)\n",
        "    net.train()\n",
        "\n",
        "\n",
        "    print(('Beginning Training with Negative Gradient:'))\n",
        "    for i in range(epochs):\n",
        "\n",
        "        fprog=0\n",
        "        rprog=0\n",
        "        print(f'\\nEpoch {i+1}/{epochs}. Forget Progress: {fprog}/{len(forget)}, Retain Progress: {rprog}/{len(retain)}',end='')\n",
        "\n",
        "        for inputs, targets in forget:\n",
        "            inputs, targets = inputs.to(DEVICE), targets.to(DEVICE)\n",
        "            optimizer.zero_grad()\n",
        "            outputs = net(inputs)\n",
        "            loss = criterion(outputs, targets)\n",
        "\n",
        "            # Use negative gradient for forgetting\n",
        "            (-loss*forget_multiplier).backward()\n",
        "            optimizer.step()\n",
        "            fprog+=1\n",
        "            print(f'\\rEpoch {i+1}/{epochs}. Forget Progress: {fprog}/{len(forget)}, Retain Progress: {rprog}/{len(retain)}',end='')\n",
        "\n",
        "\n",
        "        for inputs, targets in retain:\n",
        "            inputs, targets = inputs.to(DEVICE), targets.to(DEVICE)\n",
        "            optimizer.zero_grad()\n",
        "            outputs = net(inputs)\n",
        "            loss = criterion(outputs, targets)\n",
        "\n",
        "\n",
        "\n",
        "            loss.backward()\n",
        "            optimizer.step()\n",
        "            rprog += 1\n",
        "            print(f'\\rEpoch {i+1}/{epochs}. Forget Progress: {fprog}/{len(forget)}, Retain Progress: {rprog}/{len(retain)}',end='')\n",
        "\n",
        "\n",
        "        # Forget from the forget set\n",
        "\n",
        "        scheduler.step()\n",
        "    print('')\n",
        "    net.eval()\n",
        "    return net\n",
        "\n",
        "\n",
        "#NegGrad With relearning\n",
        "def simpleneggrad(net, retain, forget, validation, lambda_reg=.1):\n",
        "  epochs = 20\n",
        "\n",
        "  forget_multiplier = .01\n",
        "\n",
        "  criterion = nn.CrossEntropyLoss()\n",
        "  optimizer = optim.SGD(net.parameters(), lr=0.1, momentum=0.9, weight_decay=5e-4)\n",
        "  scheduler = torch.optim.lr_scheduler.CosineAnnealingLR(optimizer, T_max=epochs)\n",
        "  net.train()\n",
        "\n",
        "  for i in range(epochs):\n",
        "    # Train on the retain set\n",
        "    fprog=0\n",
        "\n",
        "    print(f'\\nEpoch {i+1}/{epochs}. Forget Progress: {fprog}/{len(forget)}',end='')\n",
        "\n",
        "    for inputs, targets in forget:\n",
        "        inputs, targets = inputs.to(DEVICE), targets.to(DEVICE)\n",
        "        optimizer.zero_grad()\n",
        "        outputs = net(inputs)\n",
        "        loss = criterion(outputs, targets)\n",
        "\n",
        "\n",
        "\n",
        "        # Use negative gradient for forgetting\n",
        "        (-loss).backward()\n",
        "        optimizer.step()\n",
        "        fprog+=1\n",
        "        print(f'\\rEpoch {i+1}/{epochs}. Forget Progress: {fprog}/{len(forget)}',end='')\n",
        "\n",
        "    scheduler.step()\n",
        "\n",
        "  print('')\n",
        "  net.eval()\n",
        "  return net\n",
        "\n"
      ],
      "metadata": {
        "id": "_uEt7kDBZEgB"
      },
      "execution_count": 10,
      "outputs": []
    },
    {
      "cell_type": "code",
      "source": [
        "#@title Train neggrad\n",
        "\n",
        "#train models\n",
        "\n",
        "print('Model 1: Basic with only training on retain set')\n",
        "ft_model = ResNet18_scratch(num_classes=10)\n",
        "ft_model.load_state_dict(pretrained_state_dict)\n",
        "ft_model.to(DEVICE)\n",
        "\n",
        "ft_model = unlearning(ft_model, class_retain_loader, class_forget_loader, test_loader)\n",
        "ft_model.to(DEVICE)\n",
        "print('Finished training model 1')\n",
        "\n",
        "# ft_model2.load_state_dict(pretrained_state_dict)\n",
        "# ft_model2.to(DEVICE)\n",
        "\n",
        "# ft_model2 = relearningneggrad(ft_model2, class_retain_loader, class_forget_loader, test_loader)\n",
        "# ft_model2.to(DEVICE)\n",
        "# torch.save(ft_model2.state_dict(), 'neggrad_params.pth')\n",
        "\n",
        "\n",
        "#load relearning from file\n",
        "print('\\nModel 2: Relearning NegGrad')\n",
        "neggrad_params = torch.load('neggrad_params.pth',map_location=torch.device(DEVICE))\n",
        "ft_model2 = ResNet18_scratch(num_classes=10)\n",
        "ft_model2.load_state_dict(neggrad_params)\n",
        "print('Finished training model 2')\n",
        "\n",
        "\n",
        "print('\\nModel 3: Simple NegGrad')\n",
        "ft_model3 = ResNet18_scratch(num_classes=10)\n",
        "ft_model3.load_state_dict(pretrained_state_dict)\n",
        "ft_model3.to(DEVICE)\n",
        "\n",
        "ft_model3 = simpleneggrad(ft_model3, class_retain_loader, class_forget_loader, test_loader)\n",
        "ft_model3.to(DEVICE)\n",
        "print('Finished training model 3')\n"
      ],
      "metadata": {
        "colab": {
          "base_uri": "https://localhost:8080/"
        },
        "id": "BAXBuuuqzNKO",
        "outputId": "9aaeae43-cd87-4e3a-d56a-8f7eec592fed"
      },
      "execution_count": null,
      "outputs": [
        {
          "output_type": "stream",
          "name": "stdout",
          "text": [
            "Model 1: Basic with only training on retain set\n",
            "\n",
            "Epoch 1/5. Retain Progress: 352/352\n",
            "Epoch 2/5. Retain Progress: 275/352"
          ]
        }
      ]
    },
    {
      "cell_type": "code",
      "source": [
        "#@title Print/Graph Models\n",
        "# print('Printing model accuracies:\\n')\n",
        "# print('Model 1 Performance:')\n",
        "# print(f\"Retain set accuracy: {100.0 * accuracy(ft_model, class_retain_loader):0.1f}%\")\n",
        "# print(f\"Forget set accuracy: {100.0 * accuracy(ft_model, class_forget_loader):.1f}\")\n",
        "# print(f\"Test set accuracy: {100.0 * accuracy(ft_model, test_loader):0.1f}%\")\n",
        "\n",
        "\n",
        "# print('\\nModel 2 Performance:')\n",
        "# print(f\"Retain set accuracy: {100.0 * accuracy(ft_model2, class_retain_loader):0.1f}%\")\n",
        "# print(f\"Forget set accuracy: {100.0 * accuracy(ft_model2, class_forget_loader):.1f}\")\n",
        "# print(f\"Test set accuracy: {100.0 * accuracy(ft_model2, test_loader):0.1f}%\")\n",
        "\n",
        "\n",
        "# print('\\nModel 3 Performance:')\n",
        "# print(f\"Retain set accuracy: {100.0 * accuracy(ft_model3, class_retain_loader):0.1f}%\")\n",
        "# print(f\"Forget set accuracy: {100.0 * accuracy(ft_model3, class_forget_loader):.1f}\")\n",
        "# print(f\"Test set accuracy: {100.0 * accuracy(ft_model3, test_loader):0.1f}%\")\n",
        "\n",
        "#Code for graphing:\n",
        "\n",
        "model_accuracies = {}\n",
        "\n",
        "# Model 1\n",
        "# model_accuracies['Model1'] = {\n",
        "#     'Retain set accuracy': 100.0 * accuracy(ft_model, class_retain_loader),\n",
        "#     'Forget set accuracy': 100.0 * accuracy(ft_model, class_forget_loader),\n",
        "#     'Train set accuracy':  100.0 * accuracy(ft_model, train_loader),\n",
        "#     'Test set accuracy': 100.0 * accuracy(ft_model, test_loader)\n",
        "# }\n",
        "\n",
        "# Model 2\n",
        "model_accuracies['Relearning NegGrad'] = {\n",
        "    'Retain set accuracy': 100.0 * accuracy(ft_model2, class_retain_loader),\n",
        "    'Forget set accuracy': 100.0 * accuracy(ft_model2, class_forget_loader),\n",
        "    'Train set accuracy':  100.0 * accuracy(ft_model2, train_loader),\n",
        "    'Test set accuracy': 100.0 * accuracy(ft_model2, test_loader)\n",
        "}\n",
        "\n",
        "# Model 3\n",
        "model_accuracies['Simple NegGrad'] = {\n",
        "    'Retain set accuracy': 100.0 * accuracy(ft_model3, class_retain_loader),\n",
        "    'Forget set accuracy': 100.0 * accuracy(ft_model3, class_forget_loader),\n",
        "    'Train set accuracy':  100.0 * accuracy(ft_model3, train_loader),\n",
        "    'Test set accuracy': 100.0 * accuracy(ft_model3, test_loader)\n",
        "}\n",
        "\n",
        "\n",
        "\n",
        "import matplotlib.pyplot as plt\n",
        "import numpy as np\n",
        "import json\n",
        "\n",
        "print(json.dumps(model_accuracies, indent=2))\n",
        "\n",
        "# Example dictionary of model performances\n",
        "\n",
        "# Extract performance metrics for each model\n",
        "metrics = list(model_accuracies.values())\n",
        "model_names = list(model_accuracies.keys())\n",
        "num_metrics = len(metrics[0])\n",
        "\n",
        "\n",
        "\n",
        "# Create subplots for each metric\n",
        "fig, axes = plt.subplots(nrows=1, ncols=num_metrics, figsize=(12, 4))\n",
        "\n",
        "# Plot histograms for each metric\n",
        "for metric_index, metric_name in enumerate(model_accuracies[model_names[0]].keys()):\n",
        "    metric_values = [metric[metric_name] for metric in metrics]\n",
        "    axes[metric_index].bar(model_names, metric_values, color=['skyblue', 'salmon', 'green','red'])\n",
        "    axes[metric_index].set_title(metric_name)\n",
        "\n",
        "# Add labels and title\n",
        "fig.suptitle('Model Performance Metrics', fontsize=16)\n",
        "plt.show()"
      ],
      "metadata": {
        "id": "U2JaMvw_zUH7",
        "cellView": "form"
      },
      "execution_count": null,
      "outputs": []
    },
    {
      "cell_type": "code",
      "source": [],
      "metadata": {
        "id": "LBrRBPxMr5CB"
      },
      "execution_count": null,
      "outputs": []
    },
    {
      "cell_type": "markdown",
      "metadata": {
        "id": "xccyUQcuM3bl"
      },
      "source": [
        "# 🏅 Evaluation\n",
        "\n",
        "In this section, we'll quantify the quality of the unlearning algorithm through a simple membership inference attack (MIA). We provide this simple MIA for convenience so that participants can quickly obtain a metric for their unlearning algorithm, but submissions will be scored using a different method.\n",
        "\n",
        "This MIA consists of a [logistic regression model](https://scikit-learn.org/stable/modules/linear_model.html#logistic-regression) that predicts whether the model was trained on a particular sample from that sample's loss. To get an idea on the difficulty of this problem, we first plot below a histogram of the losses of the pre-trained model on the train and test set"
      ]
    },
    {
      "cell_type": "code",
      "execution_count": null,
      "metadata": {
        "id": "fWUxHD3EM3bm"
      },
      "outputs": [],
      "source": [
        "def compute_losses(net, loader):\n",
        "    \"\"\"Auxiliary function to compute per-sample losses\"\"\"\n",
        "\n",
        "    criterion = nn.CrossEntropyLoss(reduction=\"none\")\n",
        "    all_losses = []\n",
        "\n",
        "    for inputs, targets in loader:\n",
        "        inputs, targets = inputs.to(DEVICE), targets.to(DEVICE)\n",
        "\n",
        "        logits = net(inputs)\n",
        "        losses = criterion(logits, targets).numpy(force=True)\n",
        "        for l in losses:\n",
        "            all_losses.append(l)\n",
        "\n",
        "    return np.array(all_losses)\n",
        "\n",
        "\n",
        "train_losses = compute_losses(model, train_loader)\n",
        "test_losses = compute_losses(model, test_loader)"
      ]
    },
    {
      "cell_type": "code",
      "execution_count": null,
      "metadata": {
        "id": "j2t4sYtZM3bm",
        "colab": {
          "base_uri": "https://localhost:8080/"
        },
        "outputId": "a2b5cfc3-d503-4221-b513-7b89e4476e90"
      },
      "outputs": [
        {
          "output_type": "display_data",
          "data": {
            "text/plain": [
              "<Figure size 640x480 with 1 Axes>"
            ],
            "image/png": "[encoded data removed]"
          },
          "metadata": {}
        }
      ],
      "source": [
        "# plot losses on train and test set\n",
        "plt.title(\"Losses on train and test set (pre-trained model)\")\n",
        "plt.hist(test_losses, density=True, alpha=0.5, bins=50, label=\"Test set\")\n",
        "plt.hist(train_losses, density=True, alpha=0.5, bins=50, label=\"Train set\")\n",
        "plt.xlabel(\"Loss\", fontsize=14)\n",
        "plt.ylabel(\"Frequency\", fontsize=14)\n",
        "plt.xlim((0, np.max(test_losses)))\n",
        "plt.yscale(\"log\")\n",
        "plt.legend(frameon=False, fontsize=14)\n",
        "ax = plt.gca()\n",
        "ax.spines[\"top\"].set_visible(False)\n",
        "ax.spines[\"right\"].set_visible(False)\n",
        "plt.show()"
      ]
    },
    {
      "cell_type": "markdown",
      "metadata": {
        "id": "ApxbefWMM3bm"
      },
      "source": [
        "As per the above plot, the distributions of losses are quite different between the train and test sets, as expected. In what follows, we will define an MIA that leverages the fact that examples that were trained on have smaller losses compared to examples that weren't. Using this fact, the simple MIA defined below will aim to infer whether the forget set was in fact part of the training set.\n",
        "\n",
        "This MIA is defined below. It takes as input the per-sample losses of the unlearned model on forget and test examples, and a membership label (0 or 1) indicating which of those two groups each sample comes from. It then returns the cross-validation accuracy of a linear model trained to distinguish between the two classes.\n",
        "\n",
        "Intuitively, an unlearning algorithm is successful with respect to this simple metric if the attacker isn't able to distinguish the forget set from the test set any better than it would for the ideal unlearning algorithm (retraining from scratch without the retain set); see the last section of this notebook for additional discussion and for computing that reference point."
      ]
    },
    {
      "cell_type": "code",
      "execution_count": null,
      "metadata": {
        "id": "6gBtdz7AM3bm"
      },
      "outputs": [],
      "source": [
        "def simple_mia(sample_loss, members, n_splits=10, random_state=0):\n",
        "    \"\"\"Computes cross-validation score of a membership inference attack.\n",
        "\n",
        "    Args:\n",
        "      sample_loss : array_like of shape (n,).\n",
        "        objective function evaluated on n samples.\n",
        "      members : array_like of shape (n,),\n",
        "        whether a sample was used for training.\n",
        "      n_splits: int\n",
        "        number of splits to use in the cross-validation.\n",
        "    Returns:\n",
        "      scores : array_like of size (n_splits,)\n",
        "    \"\"\"\n",
        "\n",
        "    unique_members = np.unique(members)\n",
        "    if not np.all(unique_members == np.array([0, 1])):\n",
        "        raise ValueError(\"members should only have 0 and 1s\")\n",
        "\n",
        "    attack_model = linear_model.LogisticRegression()\n",
        "    cv = model_selection.StratifiedShuffleSplit(\n",
        "        n_splits=n_splits, random_state=random_state\n",
        "    )\n",
        "    return model_selection.cross_val_score(\n",
        "        attack_model, sample_loss, members, cv=cv, scoring=\"accuracy\"\n",
        "    )"
      ]
    },
    {
      "cell_type": "markdown",
      "metadata": {
        "id": "p0uxLiyO9-6C"
      },
      "source": [
        "As a reference point, we first compute the accuracy of the MIA on the original model to distinguish between the forget set and the test set."
      ]
    },
    {
      "cell_type": "code",
      "execution_count": null,
      "metadata": {
        "id": "ekuEyHlUM3bm",
        "colab": {
          "base_uri": "https://localhost:8080/"
        },
        "outputId": "1a15c39f-282a-42a0-cfd3-3f97caec094c"
      },
      "outputs": [
        {
          "output_type": "stream",
          "name": "stdout",
          "text": [
            "The MIA has an accuracy of 0.577 on forgotten vs unseen images\n"
          ]
        }
      ],
      "source": [
        "forget_losses = compute_losses(model, forget_loader)\n",
        "\n",
        "# Since we have more forget losses than test losses, sub-sample them, to have a class-balanced dataset.\n",
        "np.random.shuffle(forget_losses)\n",
        "forget_losses = forget_losses[: len(test_losses)]\n",
        "\n",
        "samples_mia = np.concatenate((test_losses, forget_losses)).reshape((-1, 1))\n",
        "labels_mia = [0] * len(test_losses) + [1] * len(forget_losses)\n",
        "\n",
        "mia_scores = simple_mia(samples_mia, labels_mia)\n",
        "\n",
        "print(\n",
        "    f\"The MIA has an accuracy of {mia_scores.mean():.3f} on forgotten vs unseen images\"\n",
        ")"
      ]
    },
    {
      "cell_type": "markdown",
      "metadata": {
        "id": "12Ek9x4zM3bm"
      },
      "source": [
        "We'll now compute the accuracy of the MIA on the unlearned model. We expect the MIA to be less accurate on the unlearned model than on the original model, since the original model has not undergone a procedure to unlearn the forget set."
      ]
    },
    {
      "cell_type": "code",
      "execution_count": null,
      "metadata": {
        "id": "wYgYXRvPM3bm"
      },
      "outputs": [],
      "source": [
        "# ft_forget_losses = compute_losses(ft_model, forget_loader)\n",
        "# ft_test_losses = compute_losses(ft_model, test_loader)\n",
        "\n",
        "# # make sure we have a balanced dataset for the MIA\n",
        "# assert len(ft_test_losses) == len(ft_forget_losses)\n",
        "\n",
        "# ft_samples_mia = np.concatenate((ft_test_losses, ft_forget_losses)).reshape((-1, 1))\n",
        "# labels_mia = [0] * len(ft_test_losses) + [1] * len(ft_forget_losses)\n",
        "\n",
        "\n",
        "\n",
        "ft2_forget_losses = compute_losses(ft_model2, forget_loader)\n",
        "ft2_test_losses = compute_losses(ft_model2, test_loader)\n",
        "\n",
        "# make sure we have a balanced dataset for the MIA\n",
        "assert len(ft2_test_losses) == len(ft2_forget_losses)\n",
        "\n",
        "ft2_samples_mia = np.concatenate((ft2_test_losses, ft2_forget_losses)).reshape((-1, 1))\n",
        "labels_mia = [0] * len(ft2_test_losses) + [1] * len(ft2_forget_losses)"
      ]
    },
    {
      "cell_type": "code",
      "execution_count": null,
      "metadata": {
        "id": "BWvzT3cPGvYs",
        "colab": {
          "base_uri": "https://localhost:8080/"
        },
        "outputId": "9ca9cae0-0406-48d1-9a3a-d8f6b58fd184"
      },
      "outputs": [
        {
          "output_type": "stream",
          "name": "stdout",
          "text": [
            "The MIA has an accuracy of 0.491 on forgotten vs unseen images\n"
          ]
        }
      ],
      "source": [
        "# ft_mia_scores = simple_mia(ft_samples_mia, labels_mia)\n",
        "\n",
        "# print(\n",
        "#     f\"The MIA has an accuracy of {ft_mia_scores.mean():.3f} on forgotten vs unseen images\"\n",
        "# )\n",
        "\n",
        "\n",
        "ft2_mia_scores = simple_mia(ft2_samples_mia, labels_mia)\n",
        "\n",
        "print(\n",
        "    f\"The MIA has an accuracy of {ft2_mia_scores.mean():.3f} on forgotten vs unseen images\"\n",
        ")\n",
        "\n"
      ]
    },
    {
      "cell_type": "markdown",
      "metadata": {
        "id": "vyTh5ej49-6C"
      },
      "source": [
        "From the score above, the MIA is indeed less accurate on the unlearned model than on the original model, as expected. Finally, we'll plot the histogram of losses of the unlearned model on the train and test set. From the below figure, we can observe that the distributions of forget and test losses are more similar under the unlearned model compared to the original model, as expected."
      ]
    },
    {
      "cell_type": "code",
      "source": [
        "# fig, (ax1, ax2) = plt.subplots(1, 2, figsize=(16, 6))\n",
        "\n",
        "# ax1.set_title(f\"Pre-trained model.\\nAttack accuracy: {mia_scores.mean():0.2f}\")\n",
        "# ax1.hist(test_losses, density=True, alpha=0.5, bins=50, label=\"Test set\")\n",
        "# ax1.hist(forget_losses, density=True, alpha=0.5, bins=50, label=\"Forget set\")\n",
        "\n",
        "# ax2.set_title(\n",
        "#     f\"Unlearned by fine-tuning.\\nAttack accuracy: {ft_mia_scores.mean():0.2f}\"\n",
        "# )\n",
        "# ax2.hist(ft_test_losses, density=True, alpha=0.5, bins=50, label=\"Test set\")\n",
        "# ax2.hist(ft_forget_losses, density=True, alpha=0.5, bins=50, label=\"Forget set\")\n",
        "\n",
        "# ax1.set_xlabel(\"Loss\")\n",
        "# ax2.set_xlabel(\"Loss\")\n",
        "# ax1.set_ylabel(\"Frequency\")\n",
        "# ax1.set_yscale(\"log\")\n",
        "# ax2.set_yscale(\"log\")\n",
        "# ax1.set_xlim((0, np.max(test_losses)))\n",
        "# ax2.set_xlim((0, np.max(test_losses)))\n",
        "# for ax in (ax1, ax2):\n",
        "#     ax.spines[\"top\"].set_visible(False)\n",
        "#     ax.spines[\"right\"].set_visible(False)\n",
        "# ax1.legend(frameon=False, fontsize=14)\n",
        "# plt.show()\n",
        "\n",
        "fig, (ax1, ax2) = plt.subplots(1, 2, figsize=(16, 6))\n",
        "\n",
        "ax1.set_title(f\"Pre-trained model.\\nAttack accuracy: {mia_scores.mean():0.2f}\")\n",
        "ax1.hist(test_losses, density=True, alpha=0.5, bins=50, label=\"Test set\")\n",
        "ax1.hist(forget_losses, density=True, alpha=0.5, bins=50, label=\"Forget set\")\n",
        "\n",
        "ax2.set_title(\n",
        "    f\"Unlearned by fine-tuning.\\nAttack accuracy: {ft2_mia_scores.mean():0.2f}\"\n",
        ")\n",
        "ax2.hist(ft2_test_losses, density=True, alpha=0.5, bins=50, label=\"Test set\")\n",
        "ax2.hist(ft2_forget_losses, density=True, alpha=0.5, bins=50, label=\"Forget set\")\n",
        "\n",
        "ax1.set_xlabel(\"Loss\")\n",
        "ax2.set_xlabel(\"Loss\")\n",
        "ax1.set_ylabel(\"Frequency\")\n",
        "ax1.set_yscale(\"log\")\n",
        "ax2.set_yscale(\"log\")\n",
        "ax1.set_xlim((0, np.max(test_losses)))\n",
        "ax2.set_xlim((0, np.max(test_losses)))\n",
        "for ax in (ax1, ax2):\n",
        "    ax.spines[\"top\"].set_visible(False)\n",
        "    ax.spines[\"right\"].set_visible(False)\n",
        "ax1.legend(frameon=False, fontsize=14)\n",
        "plt.show()"
      ],
      "metadata": {
        "colab": {
          "base_uri": "https://localhost:8080/"
        },
        "id": "XvlNJ-G_olQR",
        "outputId": "1847136b-065c-49b6-b61c-1acf86eaf8bc"
      },
      "execution_count": null,
      "outputs": [
        {
          "output_type": "display_data",
          "data": {
            "text/plain": [
              "<Figure size 1600x600 with 2 Axes>"
            ],
            "image/png": "[encoded data removed]"
          },
          "metadata": {}
        }
      ]
    },
    {
      "cell_type": "markdown",
      "metadata": {
        "id": "qqeUwUVO-NjD"
      },
      "source": [
        "## Comparison with a re-trained model\n",
        "\n",
        "One might ask, how good are the scores above? What is the best score? Since our goal is to approximate the model that has been trained only on the retain set, we'll consider that the gold standard is the score achieved by this model. Intuitively, we expect the MIA accuracy to be around 0.5, since for such a model, both the forget and test set are unseen samples from the same distribution. However, a number of factors such as distribution shift or class imbalance can make this number vary.\n",
        "\n",
        "We'll now compute this score. We'll first download the weights for a model trained exclusively on the retain set and then compute the accuracy of the simple MIA."
      ]
    },
    {
      "cell_type": "code",
      "execution_count": null,
      "metadata": {
        "id": "44XEVh4-_Fz5",
        "colab": {
          "base_uri": "https://localhost:8080/"
        },
        "outputId": "2d3d2703-4aa2-4709-d4ee-b868d42d0cd1"
      },
      "outputs": [
        {
          "output_type": "stream",
          "name": "stdout",
          "text": [
            "Retain set accuracy: 99.5%\n",
            "Forget set accuracy: 88.2%\n"
          ]
        }
      ],
      "source": [
        "# download weights of a model trained exclusively on the retain set\n",
        "local_path = \"retrain_weights_resnet18_cifar10.pth\"\n",
        "if not os.path.exists(local_path):\n",
        "    response = requests.get(\n",
        "        \"https://storage.googleapis.com/unlearning-challenge/\" + local_path\n",
        "    )\n",
        "    open(local_path, \"wb\").write(response.content)\n",
        "\n",
        "weights_pretrained = torch.load(local_path, map_location=DEVICE)\n",
        "\n",
        "# load model with pre-trained weights\n",
        "rt_model = resnet18(weights=None, num_classes=10)\n",
        "rt_model.load_state_dict(weights_pretrained)\n",
        "rt_model.to(DEVICE)\n",
        "rt_model.eval()\n",
        "\n",
        "# print its accuracy on retain and forget set\n",
        "print(f\"Retain set accuracy: {100.0 * accuracy(rt_model, retain_loader):0.1f}%\")\n",
        "print(f\"Forget set accuracy: {100.0 * accuracy(rt_model, forget_loader):0.1f}%\")"
      ]
    },
    {
      "cell_type": "markdown",
      "metadata": {
        "id": "qnqSz58yG92l"
      },
      "source": [
        "As expected, the model trained exclusively on the retain set has a higher accuracy on the retain set than on the forget set (whose accuracy is similar than on the test set)"
      ]
    },
    {
      "cell_type": "code",
      "execution_count": null,
      "metadata": {
        "id": "PqGSYyuE_GtI"
      },
      "outputs": [],
      "source": [
        "rt_test_losses = compute_losses(rt_model, test_loader)\n",
        "rt_forget_losses = compute_losses(rt_model, forget_loader)\n",
        "\n",
        "rt_samples_mia = np.concatenate((rt_test_losses, rt_forget_losses)).reshape((-1, 1))\n",
        "labels_mia = [0] * len(rt_test_losses) + [1] * len(rt_forget_losses)"
      ]
    },
    {
      "cell_type": "code",
      "execution_count": null,
      "metadata": {
        "id": "YLedO-Ps_q8n",
        "colab": {
          "base_uri": "https://localhost:8080/"
        },
        "outputId": "b571de98-a15d-4e7d-afa8-ca054fd833bd"
      },
      "outputs": [
        {
          "output_type": "stream",
          "name": "stdout",
          "text": [
            "The MIA has an accuracy of 0.499 on forgotten vs unseen images\n"
          ]
        }
      ],
      "source": [
        "rt_mia_scores = simple_mia(rt_samples_mia, labels_mia)\n",
        "\n",
        "print(\n",
        "    f\"The MIA has an accuracy of {rt_mia_scores.mean():.3f} on forgotten vs unseen images\"\n",
        ")"
      ]
    },
    {
      "cell_type": "markdown",
      "metadata": {
        "id": "z9vbFFPZDP-W"
      },
      "source": [
        "As we expect, the accuracy of the MIA attack is roughly 0.5. Finally, as we've done before, let's compare the histograms of this ideal algorithm (re-trained model) vs the model obtain from"
      ]
    },
    {
      "cell_type": "code",
      "execution_count": null,
      "metadata": {
        "id": "okhS6CSOAT1N",
        "colab": {
          "base_uri": "https://localhost:8080/"
        },
        "outputId": "f760a490-aca2-41af-a545-30bea7adf794"
      },
      "outputs": [
        {
          "output_type": "display_data",
          "data": {
            "text/plain": [
              "<Figure size 1600x600 with 2 Axes>"
            ],
            "image/png": "[encoded data removed]"
          },
          "metadata": {}
        }
      ],
      "source": [
        "# fig, (ax1, ax2) = plt.subplots(1, 2, figsize=(16, 6))\n",
        "\n",
        "# ax1.set_title(f\"Re-trained model.\\nAttack accuracy: {rt_mia_scores.mean():0.2f}\")\n",
        "# ax1.hist(rt_test_losses, density=True, alpha=0.5, bins=50, label=\"Test set\")\n",
        "# ax1.hist(rt_forget_losses, density=True, alpha=0.5, bins=50, label=\"Forget set\")\n",
        "\n",
        "# ax2.set_title(\n",
        "#     f\"Unlearned by fine-tuning.\\nAttack accuracy: {ft_mia_scores.mean():0.2f}\"\n",
        "# )\n",
        "# ax2.hist(ft_test_losses, density=True, alpha=0.5, bins=50, label=\"Test set\")\n",
        "# ax2.hist(ft_forget_losses, density=True, alpha=0.5, bins=50, label=\"Forget set\")\n",
        "\n",
        "# ax1.set_xlabel(\"Loss\")\n",
        "# ax2.set_xlabel(\"Loss\")\n",
        "# ax1.set_ylabel(\"Frequency\")\n",
        "# ax1.set_yscale(\"log\")\n",
        "# ax2.set_yscale(\"log\")\n",
        "# ax1.set_xlim((0, np.max(test_losses)))\n",
        "# ax2.set_xlim((0, np.max(test_losses)))\n",
        "# for ax in (ax1, ax2):\n",
        "#     ax.spines[\"top\"].set_visible(False)\n",
        "#     ax.spines[\"right\"].set_visible(False)\n",
        "# ax1.legend(frameon=False, fontsize=14)\n",
        "# plt.show()\n",
        "\n",
        "\n",
        "\n",
        "fig, (ax1, ax2) = plt.subplots(1, 2, figsize=(16, 6))\n",
        "\n",
        "ax1.set_title(f\"Re-trained model.\\nAttack accuracy: {rt_mia_scores.mean():0.2f}\")\n",
        "ax1.hist(rt_test_losses, density=True, alpha=0.5, bins=50, label=\"Test set\")\n",
        "ax1.hist(rt_forget_losses, density=True, alpha=0.5, bins=50, label=\"Forget set\")\n",
        "\n",
        "ax2.set_title(\n",
        "    f\"Unlearned by fine-tuning.\\nAttack accuracy: {ft2_mia_scores.mean():0.2f}\"\n",
        ")\n",
        "ax2.hist(ft2_test_losses, density=True, alpha=0.5, bins=50, label=\"Test set\")\n",
        "ax2.hist(ft2_forget_losses, density=True, alpha=0.5, bins=50, label=\"Forget set\")\n",
        "\n",
        "ax1.set_xlabel(\"Loss\")\n",
        "ax2.set_xlabel(\"Loss\")\n",
        "ax1.set_ylabel(\"Frequency\")\n",
        "ax1.set_yscale(\"log\")\n",
        "ax2.set_yscale(\"log\")\n",
        "ax1.set_xlim((0, np.max(test_losses)))\n",
        "ax2.set_xlim((0, np.max(test_losses)))\n",
        "for ax in (ax1, ax2):\n",
        "    ax.spines[\"top\"].set_visible(False)\n",
        "    ax.spines[\"right\"].set_visible(False)\n",
        "ax1.legend(frameon=False, fontsize=14)\n",
        "plt.show()"
      ]
    },
    {
      "cell_type": "code",
      "execution_count": null,
      "metadata": {
        "id": "CYTGGV56EEMN"
      },
      "outputs": [],
      "source": []
    }
  ],
  "metadata": {
    "colab": {
      "provenance": [],
      "machine_shape": "hm",
      "collapsed_sections": [
        "cZWK7sDSatvj"
      ],
      "gpuType": "T4"
    },
    "kernelspec": {
      "display_name": "Python 3",
      "name": "python3"
    },
    "language_info": {
      "codemirror_mode": {
        "name": "ipython",
        "version": 3
      },
      "file_extension": ".py",
      "mimetype": "text/x-python",
      "name": "python",
      "nbconvert_exporter": "python",
      "pygments_lexer": "ipython3",
      "version": "3.8.8"
    },
    "accelerator": "GPU"
  },
  "nbformat": 4,
  "nbformat_minor": 0
}